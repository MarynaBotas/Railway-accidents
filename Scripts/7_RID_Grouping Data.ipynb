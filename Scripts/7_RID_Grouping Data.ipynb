{
 "cells": [
  {
   "cell_type": "markdown",
   "id": "836c5482-f43f-44a8-b722-23c7de8388bb",
   "metadata": {},
   "source": [
    "# Railway Incidents Data - Grouping Data"
   ]
  },
  {
   "cell_type": "markdown",
   "id": "0c8e19e2-7d52-4f18-b6d5-701d46ba55a8",
   "metadata": {},
   "source": [
    "## This script contains the following:\n",
    "1. Importing Libraries\n",
    "2. Importing Data\n",
    "3. Checking Data\n",
    "4. Grouping Data"
   ]
  },
  {
   "cell_type": "markdown",
   "id": "c4d766de-2d6e-486d-af4b-e6c80ae444a4",
   "metadata": {},
   "source": [
    "# 1. Importing Libraries"
   ]
  },
  {
   "cell_type": "code",
   "execution_count": 1,
   "id": "06b4b186-f21f-4c40-9fdf-b605f9871a9f",
   "metadata": {},
   "outputs": [],
   "source": [
    "# Import libraries\n",
    "import pandas as pd\n",
    "import numpy as np\n",
    "import os"
   ]
  },
  {
   "cell_type": "markdown",
   "id": "a24e8301-a5a4-4e3d-ada0-8ea3814bd494",
   "metadata": {},
   "source": [
    "# 2. Importing Data"
   ]
  },
  {
   "cell_type": "code",
   "execution_count": 2,
   "id": "3ba2b1d7-43f3-415d-8279-35f75031d9d0",
   "metadata": {},
   "outputs": [],
   "source": [
    "# Project folder path\n",
    "path=r'C:\\Users\\maryn\\Documents\\Data Projects\\Railway Incidents Data'"
   ]
  },
  {
   "cell_type": "code",
   "execution_count": 3,
   "id": "6c1e9536-7397-4ad2-9037-bd3dce8f7e9e",
   "metadata": {},
   "outputs": [],
   "source": [
    "# Import dataset RID_clean_1.csv\n",
    "df = pd.read_csv(os.path.join(path,'02 Data', 'Prepared Data', 'RID_clean_1.csv'), index_col = False)"
   ]
  },
  {
   "cell_type": "markdown",
   "id": "01e6dcae-b00b-44b3-a81b-0f21ca646073",
   "metadata": {},
   "source": [
    "# 3. Checking Data"
   ]
  },
  {
   "cell_type": "code",
   "execution_count": 4,
   "id": "584b2c88-b7e6-4bcf-8260-f78dda9dd19f",
   "metadata": {},
   "outputs": [
    {
     "data": {
      "text/html": [
       "<div>\n",
       "<style scoped>\n",
       "    .dataframe tbody tr th:only-of-type {\n",
       "        vertical-align: middle;\n",
       "    }\n",
       "\n",
       "    .dataframe tbody tr th {\n",
       "        vertical-align: top;\n",
       "    }\n",
       "\n",
       "    .dataframe thead th {\n",
       "        text-align: right;\n",
       "    }\n",
       "</style>\n",
       "<table border=\"1\" class=\"dataframe\">\n",
       "  <thead>\n",
       "    <tr style=\"text-align: right;\">\n",
       "      <th></th>\n",
       "      <th>Unnamed: 0</th>\n",
       "      <th>reporting_railroad_code</th>\n",
       "      <th>railroad_name</th>\n",
       "      <th>year</th>\n",
       "      <th>accident_id</th>\n",
       "      <th>month</th>\n",
       "      <th>accident_type</th>\n",
       "      <th>state</th>\n",
       "      <th>fra_district</th>\n",
       "      <th>train_speed</th>\n",
       "      <th>temperature</th>\n",
       "      <th>visibility</th>\n",
       "      <th>weather_condition</th>\n",
       "      <th>has_passengers</th>\n",
       "      <th>damage_cost</th>\n",
       "      <th>persons_killed</th>\n",
       "      <th>persons_injured</th>\n",
       "    </tr>\n",
       "  </thead>\n",
       "  <tbody>\n",
       "    <tr>\n",
       "      <th>0</th>\n",
       "      <td>0</td>\n",
       "      <td>NICD</td>\n",
       "      <td>Northern Indiana Commuter Transportation District</td>\n",
       "      <td>2017</td>\n",
       "      <td>N1700013</td>\n",
       "      <td>6</td>\n",
       "      <td>Derailment</td>\n",
       "      <td>ILLINOIS</td>\n",
       "      <td>4</td>\n",
       "      <td>10.0</td>\n",
       "      <td>65.0</td>\n",
       "      <td>Day</td>\n",
       "      <td>Clear</td>\n",
       "      <td>Yes</td>\n",
       "      <td>0.0</td>\n",
       "      <td>0.0</td>\n",
       "      <td>0.0</td>\n",
       "    </tr>\n",
       "    <tr>\n",
       "      <th>1</th>\n",
       "      <td>1</td>\n",
       "      <td>NIRC</td>\n",
       "      <td>NORTHEAST ILLINOIS REGIONAL COMMUTER RAIL CORP...</td>\n",
       "      <td>2017</td>\n",
       "      <td>201707188</td>\n",
       "      <td>6</td>\n",
       "      <td>Derailment</td>\n",
       "      <td>ILLINOIS</td>\n",
       "      <td>4</td>\n",
       "      <td>0.0</td>\n",
       "      <td>65.0</td>\n",
       "      <td>Day</td>\n",
       "      <td>Clear</td>\n",
       "      <td>Unknown</td>\n",
       "      <td>0.0</td>\n",
       "      <td>0.0</td>\n",
       "      <td>0.0</td>\n",
       "    </tr>\n",
       "    <tr>\n",
       "      <th>2</th>\n",
       "      <td>2</td>\n",
       "      <td>CR</td>\n",
       "      <td>Conrail</td>\n",
       "      <td>1981</td>\n",
       "      <td>0420001</td>\n",
       "      <td>4</td>\n",
       "      <td>Side collision</td>\n",
       "      <td>NEW YORK</td>\n",
       "      <td>1</td>\n",
       "      <td>0.0</td>\n",
       "      <td>28.0</td>\n",
       "      <td>Day</td>\n",
       "      <td>Snow</td>\n",
       "      <td>No</td>\n",
       "      <td>0.0</td>\n",
       "      <td>0.0</td>\n",
       "      <td>0.0</td>\n",
       "    </tr>\n",
       "    <tr>\n",
       "      <th>3</th>\n",
       "      <td>3</td>\n",
       "      <td>IC</td>\n",
       "      <td>Illinois Central Railroad Company</td>\n",
       "      <td>2007</td>\n",
       "      <td>543854</td>\n",
       "      <td>1</td>\n",
       "      <td>Derailment</td>\n",
       "      <td>LOUISIANA</td>\n",
       "      <td>5</td>\n",
       "      <td>4.0</td>\n",
       "      <td>56.0</td>\n",
       "      <td>Day</td>\n",
       "      <td>Cloudy</td>\n",
       "      <td>No</td>\n",
       "      <td>0.0</td>\n",
       "      <td>0.0</td>\n",
       "      <td>0.0</td>\n",
       "    </tr>\n",
       "    <tr>\n",
       "      <th>4</th>\n",
       "      <td>4</td>\n",
       "      <td>IC</td>\n",
       "      <td>Illinois Central Railroad Company</td>\n",
       "      <td>2017</td>\n",
       "      <td>938223</td>\n",
       "      <td>10</td>\n",
       "      <td>Hwy-rail crossing</td>\n",
       "      <td>ILLINOIS</td>\n",
       "      <td>4</td>\n",
       "      <td>0.0</td>\n",
       "      <td>66.0</td>\n",
       "      <td>Dark</td>\n",
       "      <td>Clear</td>\n",
       "      <td>No</td>\n",
       "      <td>0.0</td>\n",
       "      <td>0.0</td>\n",
       "      <td>1.0</td>\n",
       "    </tr>\n",
       "  </tbody>\n",
       "</table>\n",
       "</div>"
      ],
      "text/plain": [
       "   Unnamed: 0 reporting_railroad_code  \\\n",
       "0           0                    NICD   \n",
       "1           1                    NIRC   \n",
       "2           2                      CR   \n",
       "3           3                      IC   \n",
       "4           4                      IC   \n",
       "\n",
       "                                       railroad_name  year accident_id  month  \\\n",
       "0  Northern Indiana Commuter Transportation District  2017    N1700013      6   \n",
       "1  NORTHEAST ILLINOIS REGIONAL COMMUTER RAIL CORP...  2017   201707188      6   \n",
       "2                                            Conrail  1981     0420001      4   \n",
       "3                  Illinois Central Railroad Company  2007      543854      1   \n",
       "4                  Illinois Central Railroad Company  2017      938223     10   \n",
       "\n",
       "       accident_type      state  fra_district  train_speed  temperature  \\\n",
       "0         Derailment   ILLINOIS             4         10.0         65.0   \n",
       "1         Derailment   ILLINOIS             4          0.0         65.0   \n",
       "2     Side collision   NEW YORK             1          0.0         28.0   \n",
       "3         Derailment  LOUISIANA             5          4.0         56.0   \n",
       "4  Hwy-rail crossing   ILLINOIS             4          0.0         66.0   \n",
       "\n",
       "  visibility weather_condition has_passengers  damage_cost  persons_killed  \\\n",
       "0        Day             Clear            Yes          0.0             0.0   \n",
       "1        Day             Clear        Unknown          0.0             0.0   \n",
       "2        Day              Snow             No          0.0             0.0   \n",
       "3        Day            Cloudy             No          0.0             0.0   \n",
       "4       Dark             Clear             No          0.0             0.0   \n",
       "\n",
       "   persons_injured  \n",
       "0              0.0  \n",
       "1              0.0  \n",
       "2              0.0  \n",
       "3              0.0  \n",
       "4              1.0  "
      ]
     },
     "execution_count": 4,
     "metadata": {},
     "output_type": "execute_result"
    }
   ],
   "source": [
    "df.head()"
   ]
  },
  {
   "cell_type": "code",
   "execution_count": 5,
   "id": "9f28d41a-99cb-4135-86c0-7a4bd979c9cc",
   "metadata": {},
   "outputs": [],
   "source": [
    "# Drop the 'Unnamed: 0' column\n",
    "df.drop(columns=['Unnamed: 0'], inplace=True)"
   ]
  },
  {
   "cell_type": "code",
   "execution_count": 6,
   "id": "6260512f-f65c-44c8-9e2e-e954dc20d1a9",
   "metadata": {},
   "outputs": [
    {
     "data": {
      "text/html": [
       "<div>\n",
       "<style scoped>\n",
       "    .dataframe tbody tr th:only-of-type {\n",
       "        vertical-align: middle;\n",
       "    }\n",
       "\n",
       "    .dataframe tbody tr th {\n",
       "        vertical-align: top;\n",
       "    }\n",
       "\n",
       "    .dataframe thead th {\n",
       "        text-align: right;\n",
       "    }\n",
       "</style>\n",
       "<table border=\"1\" class=\"dataframe\">\n",
       "  <thead>\n",
       "    <tr style=\"text-align: right;\">\n",
       "      <th></th>\n",
       "      <th>reporting_railroad_code</th>\n",
       "      <th>railroad_name</th>\n",
       "      <th>year</th>\n",
       "      <th>accident_id</th>\n",
       "      <th>month</th>\n",
       "      <th>accident_type</th>\n",
       "      <th>state</th>\n",
       "      <th>fra_district</th>\n",
       "      <th>train_speed</th>\n",
       "      <th>temperature</th>\n",
       "      <th>visibility</th>\n",
       "      <th>weather_condition</th>\n",
       "      <th>has_passengers</th>\n",
       "      <th>damage_cost</th>\n",
       "      <th>persons_killed</th>\n",
       "      <th>persons_injured</th>\n",
       "    </tr>\n",
       "  </thead>\n",
       "  <tbody>\n",
       "    <tr>\n",
       "      <th>0</th>\n",
       "      <td>NICD</td>\n",
       "      <td>Northern Indiana Commuter Transportation District</td>\n",
       "      <td>2017</td>\n",
       "      <td>N1700013</td>\n",
       "      <td>6</td>\n",
       "      <td>Derailment</td>\n",
       "      <td>ILLINOIS</td>\n",
       "      <td>4</td>\n",
       "      <td>10.0</td>\n",
       "      <td>65.0</td>\n",
       "      <td>Day</td>\n",
       "      <td>Clear</td>\n",
       "      <td>Yes</td>\n",
       "      <td>0.0</td>\n",
       "      <td>0.0</td>\n",
       "      <td>0.0</td>\n",
       "    </tr>\n",
       "    <tr>\n",
       "      <th>1</th>\n",
       "      <td>NIRC</td>\n",
       "      <td>NORTHEAST ILLINOIS REGIONAL COMMUTER RAIL CORP...</td>\n",
       "      <td>2017</td>\n",
       "      <td>201707188</td>\n",
       "      <td>6</td>\n",
       "      <td>Derailment</td>\n",
       "      <td>ILLINOIS</td>\n",
       "      <td>4</td>\n",
       "      <td>0.0</td>\n",
       "      <td>65.0</td>\n",
       "      <td>Day</td>\n",
       "      <td>Clear</td>\n",
       "      <td>Unknown</td>\n",
       "      <td>0.0</td>\n",
       "      <td>0.0</td>\n",
       "      <td>0.0</td>\n",
       "    </tr>\n",
       "    <tr>\n",
       "      <th>2</th>\n",
       "      <td>CR</td>\n",
       "      <td>Conrail</td>\n",
       "      <td>1981</td>\n",
       "      <td>0420001</td>\n",
       "      <td>4</td>\n",
       "      <td>Side collision</td>\n",
       "      <td>NEW YORK</td>\n",
       "      <td>1</td>\n",
       "      <td>0.0</td>\n",
       "      <td>28.0</td>\n",
       "      <td>Day</td>\n",
       "      <td>Snow</td>\n",
       "      <td>No</td>\n",
       "      <td>0.0</td>\n",
       "      <td>0.0</td>\n",
       "      <td>0.0</td>\n",
       "    </tr>\n",
       "    <tr>\n",
       "      <th>3</th>\n",
       "      <td>IC</td>\n",
       "      <td>Illinois Central Railroad Company</td>\n",
       "      <td>2007</td>\n",
       "      <td>543854</td>\n",
       "      <td>1</td>\n",
       "      <td>Derailment</td>\n",
       "      <td>LOUISIANA</td>\n",
       "      <td>5</td>\n",
       "      <td>4.0</td>\n",
       "      <td>56.0</td>\n",
       "      <td>Day</td>\n",
       "      <td>Cloudy</td>\n",
       "      <td>No</td>\n",
       "      <td>0.0</td>\n",
       "      <td>0.0</td>\n",
       "      <td>0.0</td>\n",
       "    </tr>\n",
       "    <tr>\n",
       "      <th>4</th>\n",
       "      <td>IC</td>\n",
       "      <td>Illinois Central Railroad Company</td>\n",
       "      <td>2017</td>\n",
       "      <td>938223</td>\n",
       "      <td>10</td>\n",
       "      <td>Hwy-rail crossing</td>\n",
       "      <td>ILLINOIS</td>\n",
       "      <td>4</td>\n",
       "      <td>0.0</td>\n",
       "      <td>66.0</td>\n",
       "      <td>Dark</td>\n",
       "      <td>Clear</td>\n",
       "      <td>No</td>\n",
       "      <td>0.0</td>\n",
       "      <td>0.0</td>\n",
       "      <td>1.0</td>\n",
       "    </tr>\n",
       "  </tbody>\n",
       "</table>\n",
       "</div>"
      ],
      "text/plain": [
       "  reporting_railroad_code                                      railroad_name  \\\n",
       "0                    NICD  Northern Indiana Commuter Transportation District   \n",
       "1                    NIRC  NORTHEAST ILLINOIS REGIONAL COMMUTER RAIL CORP...   \n",
       "2                      CR                                            Conrail   \n",
       "3                      IC                  Illinois Central Railroad Company   \n",
       "4                      IC                  Illinois Central Railroad Company   \n",
       "\n",
       "   year accident_id  month      accident_type      state  fra_district  \\\n",
       "0  2017    N1700013      6         Derailment   ILLINOIS             4   \n",
       "1  2017   201707188      6         Derailment   ILLINOIS             4   \n",
       "2  1981     0420001      4     Side collision   NEW YORK             1   \n",
       "3  2007      543854      1         Derailment  LOUISIANA             5   \n",
       "4  2017      938223     10  Hwy-rail crossing   ILLINOIS             4   \n",
       "\n",
       "   train_speed  temperature visibility weather_condition has_passengers  \\\n",
       "0         10.0         65.0        Day             Clear            Yes   \n",
       "1          0.0         65.0        Day             Clear        Unknown   \n",
       "2          0.0         28.0        Day              Snow             No   \n",
       "3          4.0         56.0        Day            Cloudy             No   \n",
       "4          0.0         66.0       Dark             Clear             No   \n",
       "\n",
       "   damage_cost  persons_killed  persons_injured  \n",
       "0          0.0             0.0              0.0  \n",
       "1          0.0             0.0              0.0  \n",
       "2          0.0             0.0              0.0  \n",
       "3          0.0             0.0              0.0  \n",
       "4          0.0             0.0              1.0  "
      ]
     },
     "execution_count": 6,
     "metadata": {},
     "output_type": "execute_result"
    }
   ],
   "source": [
    "df.head()"
   ]
  },
  {
   "cell_type": "code",
   "execution_count": 7,
   "id": "d0e19a3a-120e-4e1e-9e04-0e0ba3b47557",
   "metadata": {},
   "outputs": [
    {
     "data": {
      "text/plain": [
       "(210666, 16)"
      ]
     },
     "execution_count": 7,
     "metadata": {},
     "output_type": "execute_result"
    }
   ],
   "source": [
    "df.shape"
   ]
  },
  {
   "cell_type": "markdown",
   "id": "fba1a169-7349-4f39-be22-8995fa9e91c1",
   "metadata": {},
   "source": [
    "# 4. Grouping Data"
   ]
  },
  {
   "cell_type": "code",
   "execution_count": 8,
   "id": "890676ad-a5f9-4aac-a3c8-ff4477a94c50",
   "metadata": {},
   "outputs": [],
   "source": [
    "# Grouping data by year and state\n",
    "agg_df = df.groupby(['year', 'state']).size().reset_index(name='accident count')"
   ]
  },
  {
   "cell_type": "code",
   "execution_count": 9,
   "id": "7eced4a4-b13d-4bfa-a9f1-19d16b186051",
   "metadata": {},
   "outputs": [
    {
     "data": {
      "text/html": [
       "<div>\n",
       "<style scoped>\n",
       "    .dataframe tbody tr th:only-of-type {\n",
       "        vertical-align: middle;\n",
       "    }\n",
       "\n",
       "    .dataframe tbody tr th {\n",
       "        vertical-align: top;\n",
       "    }\n",
       "\n",
       "    .dataframe thead th {\n",
       "        text-align: right;\n",
       "    }\n",
       "</style>\n",
       "<table border=\"1\" class=\"dataframe\">\n",
       "  <thead>\n",
       "    <tr style=\"text-align: right;\">\n",
       "      <th></th>\n",
       "      <th>year</th>\n",
       "      <th>state</th>\n",
       "      <th>accident count</th>\n",
       "    </tr>\n",
       "  </thead>\n",
       "  <tbody>\n",
       "    <tr>\n",
       "      <th>0</th>\n",
       "      <td>1975</td>\n",
       "      <td>ALABAMA</td>\n",
       "      <td>235</td>\n",
       "    </tr>\n",
       "    <tr>\n",
       "      <th>1</th>\n",
       "      <td>1975</td>\n",
       "      <td>ALASKA</td>\n",
       "      <td>15</td>\n",
       "    </tr>\n",
       "    <tr>\n",
       "      <th>2</th>\n",
       "      <td>1975</td>\n",
       "      <td>ARIZONA</td>\n",
       "      <td>58</td>\n",
       "    </tr>\n",
       "    <tr>\n",
       "      <th>3</th>\n",
       "      <td>1975</td>\n",
       "      <td>ARKANSAS</td>\n",
       "      <td>152</td>\n",
       "    </tr>\n",
       "    <tr>\n",
       "      <th>4</th>\n",
       "      <td>1975</td>\n",
       "      <td>CALIFORNIA</td>\n",
       "      <td>237</td>\n",
       "    </tr>\n",
       "  </tbody>\n",
       "</table>\n",
       "</div>"
      ],
      "text/plain": [
       "   year       state  accident count\n",
       "0  1975     ALABAMA             235\n",
       "1  1975      ALASKA              15\n",
       "2  1975     ARIZONA              58\n",
       "3  1975    ARKANSAS             152\n",
       "4  1975  CALIFORNIA             237"
      ]
     },
     "execution_count": 9,
     "metadata": {},
     "output_type": "execute_result"
    }
   ],
   "source": [
    "agg_df.head()"
   ]
  },
  {
   "cell_type": "code",
   "execution_count": 10,
   "id": "d3b475a3-4855-4837-9841-fbf1fcf4b1f2",
   "metadata": {},
   "outputs": [],
   "source": [
    "# Exporting agg_df in csv format\n",
    "agg_df.to_csv('grouped_accidents_year_state.csv', index=False)"
   ]
  },
  {
   "cell_type": "code",
   "execution_count": 11,
   "id": "c8d3dc6d-ed07-46ae-a872-d869334a1fa0",
   "metadata": {},
   "outputs": [],
   "source": [
    "# Grouping data by year and month\n",
    "agg_df_month = df.groupby(['year', 'month']).size().reset_index(name='accident count')"
   ]
  },
  {
   "cell_type": "code",
   "execution_count": 12,
   "id": "261a90df-8288-47d6-8178-137653cabcc1",
   "metadata": {},
   "outputs": [],
   "source": [
    "# Exporting agg_df_month in csv format\n",
    "agg_df_month.to_csv('grouped_accidents_year_month.csv', index=False)"
   ]
  },
  {
   "cell_type": "code",
   "execution_count": 13,
   "id": "ba1d3f4e-99c5-4ac1-beaf-400eab1c1d10",
   "metadata": {},
   "outputs": [],
   "source": [
    "# Grouping data by year and visibility\n",
    "agg_df_visibility = df.groupby(['year', 'visibility']).size().reset_index(name='accident count')"
   ]
  },
  {
   "cell_type": "code",
   "execution_count": 17,
   "id": "477db5d7-db7e-4bb4-b900-957c70dc901b",
   "metadata": {},
   "outputs": [],
   "source": [
    "# Exporting agg_df_visibility in csv format\n",
    "agg_df_visibility.to_csv('grouped_accidents_year_vis.csv', index=False)"
   ]
  },
  {
   "cell_type": "code",
   "execution_count": 18,
   "id": "e216bfb0-deef-4a9f-b9d1-4f846991fae5",
   "metadata": {},
   "outputs": [],
   "source": [
    "# Grouping data by year and weather_condition\n",
    "agg_df_weather = df.groupby(['year', 'weather_condition']).size().reset_index(name='accident count')"
   ]
  },
  {
   "cell_type": "code",
   "execution_count": 20,
   "id": "c6c097b1-d3fc-4db2-ab46-8aadfb5369f1",
   "metadata": {},
   "outputs": [],
   "source": [
    "# Exporting agg_df_weather in csv format\n",
    "agg_df_weather.to_csv('grouped_accidents_weather.csv', index=False)"
   ]
  }
 ],
 "metadata": {
  "kernelspec": {
   "display_name": "Python 3 (ipykernel)",
   "language": "python",
   "name": "python3"
  },
  "language_info": {
   "codemirror_mode": {
    "name": "ipython",
    "version": 3
   },
   "file_extension": ".py",
   "mimetype": "text/x-python",
   "name": "python",
   "nbconvert_exporter": "python",
   "pygments_lexer": "ipython3",
   "version": "3.11.8"
  }
 },
 "nbformat": 4,
 "nbformat_minor": 5
}
