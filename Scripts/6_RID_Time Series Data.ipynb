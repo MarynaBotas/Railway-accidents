{
 "cells": [
  {
   "cell_type": "markdown",
   "id": "bcc78740-7ea0-40db-9366-662c5d27b013",
   "metadata": {},
   "source": [
    "# Railway Incidents Data - Time Series Data"
   ]
  },
  {
   "cell_type": "markdown",
   "id": "6b25e740-0fe2-45ff-a2c4-286044a744b2",
   "metadata": {},
   "source": [
    "## This script contains the following:\r\n",
    "1. Importing Libraries\r\n",
    "2. Importing Data\r\n",
    "3. Checking Data\r\n",
    "4. Creating Time Series Subset\r\n",
    "5. Time-series analysis: decomposition\r\n",
    "6. Testing for stationarity\r\n",
    "7. Test for autocorrelation"
   ]
  },
  {
   "cell_type": "markdown",
   "id": "d02faa03-e821-40f9-b29e-3c625aef958d",
   "metadata": {},
   "source": [
    "# 1. Importing Libraries\n"
   ]
  },
  {
   "cell_type": "code",
   "execution_count": 1,
   "id": "b6d5c740-fe49-42b1-bc4f-6d9a454fe742",
   "metadata": {},
   "outputs": [],
   "source": [
    "# Import libraries\n",
    "import quandl\n",
    "import pandas as pd\n",
    "import numpy as np\n",
    "import seaborn as sns\n",
    "import matplotlib\n",
    "import matplotlib.pyplot as plt\n",
    "import statsmodels.api as sm \n",
    "import os\n",
    "import warnings \n",
    "\n",
    "warnings.filterwarnings(\"ignore\") \n",
    "\n",
    "plt.style.use('fivethirtyeight') "
   ]
  },
  {
   "cell_type": "code",
   "execution_count": 2,
   "id": "13ffc9e6-be9d-41c8-8349-b60d953ff7ad",
   "metadata": {},
   "outputs": [],
   "source": [
    "%matplotlib inline"
   ]
  },
  {
   "cell_type": "markdown",
   "id": "9c17604b-e641-431e-82f1-84112e2fae97",
   "metadata": {},
   "source": [
    "# 2. Importing Data\n"
   ]
  },
  {
   "cell_type": "code",
   "execution_count": 3,
   "id": "15c4ed81-d4d7-4647-9e30-188dd22628b5",
   "metadata": {},
   "outputs": [],
   "source": [
    "# Project folder path\n",
    "path=r'C:\\Users\\maryn\\Documents\\Data Projects\\Railway Incidents Data'"
   ]
  },
  {
   "cell_type": "code",
   "execution_count": 4,
   "id": "491da76a-cdae-4482-a0f6-b8942cc10292",
   "metadata": {},
   "outputs": [],
   "source": [
    "# Import dataset RID_clean_1.csv\n",
    "df = pd.read_csv(os.path.join(path,'02 Data', 'Prepared Data', 'RID_clean_1.csv'), index_col = False)"
   ]
  },
  {
   "cell_type": "markdown",
   "id": "7b861ca1-e97b-4436-be77-5228d5194dd8",
   "metadata": {},
   "source": [
    "# 3. Checking Data"
   ]
  },
  {
   "cell_type": "code",
   "execution_count": 5,
   "id": "caec2b36-3cef-4ccf-ad34-4dee6e7dd3fb",
   "metadata": {},
   "outputs": [
    {
     "data": {
      "text/html": [
       "<div>\n",
       "<style scoped>\n",
       "    .dataframe tbody tr th:only-of-type {\n",
       "        vertical-align: middle;\n",
       "    }\n",
       "\n",
       "    .dataframe tbody tr th {\n",
       "        vertical-align: top;\n",
       "    }\n",
       "\n",
       "    .dataframe thead th {\n",
       "        text-align: right;\n",
       "    }\n",
       "</style>\n",
       "<table border=\"1\" class=\"dataframe\">\n",
       "  <thead>\n",
       "    <tr style=\"text-align: right;\">\n",
       "      <th></th>\n",
       "      <th>Unnamed: 0</th>\n",
       "      <th>reporting_railroad_code</th>\n",
       "      <th>railroad_name</th>\n",
       "      <th>year</th>\n",
       "      <th>accident_id</th>\n",
       "      <th>month</th>\n",
       "      <th>accident_type</th>\n",
       "      <th>state</th>\n",
       "      <th>fra_district</th>\n",
       "      <th>train_speed</th>\n",
       "      <th>temperature</th>\n",
       "      <th>visibility</th>\n",
       "      <th>weather_condition</th>\n",
       "      <th>has_passengers</th>\n",
       "      <th>damage_cost</th>\n",
       "      <th>persons_killed</th>\n",
       "      <th>persons_injured</th>\n",
       "    </tr>\n",
       "  </thead>\n",
       "  <tbody>\n",
       "    <tr>\n",
       "      <th>0</th>\n",
       "      <td>0</td>\n",
       "      <td>NICD</td>\n",
       "      <td>Northern Indiana Commuter Transportation District</td>\n",
       "      <td>2017</td>\n",
       "      <td>N1700013</td>\n",
       "      <td>6</td>\n",
       "      <td>Derailment</td>\n",
       "      <td>ILLINOIS</td>\n",
       "      <td>4</td>\n",
       "      <td>10.0</td>\n",
       "      <td>65.0</td>\n",
       "      <td>Day</td>\n",
       "      <td>Clear</td>\n",
       "      <td>Yes</td>\n",
       "      <td>0.0</td>\n",
       "      <td>0.0</td>\n",
       "      <td>0.0</td>\n",
       "    </tr>\n",
       "    <tr>\n",
       "      <th>1</th>\n",
       "      <td>1</td>\n",
       "      <td>NIRC</td>\n",
       "      <td>NORTHEAST ILLINOIS REGIONAL COMMUTER RAIL CORP...</td>\n",
       "      <td>2017</td>\n",
       "      <td>201707188</td>\n",
       "      <td>6</td>\n",
       "      <td>Derailment</td>\n",
       "      <td>ILLINOIS</td>\n",
       "      <td>4</td>\n",
       "      <td>0.0</td>\n",
       "      <td>65.0</td>\n",
       "      <td>Day</td>\n",
       "      <td>Clear</td>\n",
       "      <td>Unknown</td>\n",
       "      <td>0.0</td>\n",
       "      <td>0.0</td>\n",
       "      <td>0.0</td>\n",
       "    </tr>\n",
       "    <tr>\n",
       "      <th>2</th>\n",
       "      <td>2</td>\n",
       "      <td>CR</td>\n",
       "      <td>Conrail</td>\n",
       "      <td>1981</td>\n",
       "      <td>0420001</td>\n",
       "      <td>4</td>\n",
       "      <td>Side collision</td>\n",
       "      <td>NEW YORK</td>\n",
       "      <td>1</td>\n",
       "      <td>0.0</td>\n",
       "      <td>28.0</td>\n",
       "      <td>Day</td>\n",
       "      <td>Snow</td>\n",
       "      <td>No</td>\n",
       "      <td>0.0</td>\n",
       "      <td>0.0</td>\n",
       "      <td>0.0</td>\n",
       "    </tr>\n",
       "    <tr>\n",
       "      <th>3</th>\n",
       "      <td>3</td>\n",
       "      <td>IC</td>\n",
       "      <td>Illinois Central Railroad Company</td>\n",
       "      <td>2007</td>\n",
       "      <td>543854</td>\n",
       "      <td>1</td>\n",
       "      <td>Derailment</td>\n",
       "      <td>LOUISIANA</td>\n",
       "      <td>5</td>\n",
       "      <td>4.0</td>\n",
       "      <td>56.0</td>\n",
       "      <td>Day</td>\n",
       "      <td>Cloudy</td>\n",
       "      <td>No</td>\n",
       "      <td>0.0</td>\n",
       "      <td>0.0</td>\n",
       "      <td>0.0</td>\n",
       "    </tr>\n",
       "    <tr>\n",
       "      <th>4</th>\n",
       "      <td>4</td>\n",
       "      <td>IC</td>\n",
       "      <td>Illinois Central Railroad Company</td>\n",
       "      <td>2017</td>\n",
       "      <td>938223</td>\n",
       "      <td>10</td>\n",
       "      <td>Hwy-rail crossing</td>\n",
       "      <td>ILLINOIS</td>\n",
       "      <td>4</td>\n",
       "      <td>0.0</td>\n",
       "      <td>66.0</td>\n",
       "      <td>Dark</td>\n",
       "      <td>Clear</td>\n",
       "      <td>No</td>\n",
       "      <td>0.0</td>\n",
       "      <td>0.0</td>\n",
       "      <td>1.0</td>\n",
       "    </tr>\n",
       "  </tbody>\n",
       "</table>\n",
       "</div>"
      ],
      "text/plain": [
       "   Unnamed: 0 reporting_railroad_code  \\\n",
       "0           0                    NICD   \n",
       "1           1                    NIRC   \n",
       "2           2                      CR   \n",
       "3           3                      IC   \n",
       "4           4                      IC   \n",
       "\n",
       "                                       railroad_name  year accident_id  month  \\\n",
       "0  Northern Indiana Commuter Transportation District  2017    N1700013      6   \n",
       "1  NORTHEAST ILLINOIS REGIONAL COMMUTER RAIL CORP...  2017   201707188      6   \n",
       "2                                            Conrail  1981     0420001      4   \n",
       "3                  Illinois Central Railroad Company  2007      543854      1   \n",
       "4                  Illinois Central Railroad Company  2017      938223     10   \n",
       "\n",
       "       accident_type      state  fra_district  train_speed  temperature  \\\n",
       "0         Derailment   ILLINOIS             4         10.0         65.0   \n",
       "1         Derailment   ILLINOIS             4          0.0         65.0   \n",
       "2     Side collision   NEW YORK             1          0.0         28.0   \n",
       "3         Derailment  LOUISIANA             5          4.0         56.0   \n",
       "4  Hwy-rail crossing   ILLINOIS             4          0.0         66.0   \n",
       "\n",
       "  visibility weather_condition has_passengers  damage_cost  persons_killed  \\\n",
       "0        Day             Clear            Yes          0.0             0.0   \n",
       "1        Day             Clear        Unknown          0.0             0.0   \n",
       "2        Day              Snow             No          0.0             0.0   \n",
       "3        Day            Cloudy             No          0.0             0.0   \n",
       "4       Dark             Clear             No          0.0             0.0   \n",
       "\n",
       "   persons_injured  \n",
       "0              0.0  \n",
       "1              0.0  \n",
       "2              0.0  \n",
       "3              0.0  \n",
       "4              1.0  "
      ]
     },
     "execution_count": 5,
     "metadata": {},
     "output_type": "execute_result"
    }
   ],
   "source": [
    "df.head()"
   ]
  },
  {
   "cell_type": "code",
   "execution_count": 6,
   "id": "32fae0b9-4e76-4ead-9c1a-d39c83e35d3b",
   "metadata": {},
   "outputs": [
    {
     "data": {
      "text/plain": [
       "(210666, 17)"
      ]
     },
     "execution_count": 6,
     "metadata": {},
     "output_type": "execute_result"
    }
   ],
   "source": [
    "df.shape"
   ]
  },
  {
   "cell_type": "code",
   "execution_count": 7,
   "id": "320482e5-8650-42a5-b0ff-4f3177b1462a",
   "metadata": {},
   "outputs": [
    {
     "data": {
      "text/plain": [
       "Unnamed: 0                 0\n",
       "reporting_railroad_code    0\n",
       "railroad_name              0\n",
       "year                       0\n",
       "accident_id                0\n",
       "month                      0\n",
       "accident_type              0\n",
       "state                      0\n",
       "fra_district               0\n",
       "train_speed                0\n",
       "temperature                0\n",
       "visibility                 0\n",
       "weather_condition          0\n",
       "has_passengers             0\n",
       "damage_cost                0\n",
       "persons_killed             0\n",
       "persons_injured            0\n",
       "dtype: int64"
      ]
     },
     "execution_count": 7,
     "metadata": {},
     "output_type": "execute_result"
    }
   ],
   "source": [
    "# Check for missing values \n",
    "df.isnull().sum()"
   ]
  },
  {
   "cell_type": "code",
   "execution_count": 8,
   "id": "a52498e4-decc-4e83-ac89-472b7ea81a2f",
   "metadata": {},
   "outputs": [
    {
     "data": {
      "text/plain": [
       "0"
      ]
     },
     "execution_count": 8,
     "metadata": {},
     "output_type": "execute_result"
    }
   ],
   "source": [
    "# Check for duplicates\n",
    "dups = df.duplicated()\n",
    "dups.sum()"
   ]
  },
  {
   "cell_type": "markdown",
   "id": "5e2edcc9-edc7-4bda-8a5b-75183e0eff43",
   "metadata": {},
   "source": [
    "# 4. Creating Time Series Subset"
   ]
  },
  {
   "cell_type": "code",
   "execution_count": 9,
   "id": "1700347b-fda8-4f27-b07f-5d0791fc8825",
   "metadata": {},
   "outputs": [
    {
     "data": {
      "text/plain": [
       "Unnamed: 0                   int64\n",
       "reporting_railroad_code     object\n",
       "railroad_name               object\n",
       "year                         int64\n",
       "accident_id                 object\n",
       "month                        int64\n",
       "accident_type               object\n",
       "state                       object\n",
       "fra_district                 int64\n",
       "train_speed                float64\n",
       "temperature                float64\n",
       "visibility                  object\n",
       "weather_condition           object\n",
       "has_passengers              object\n",
       "damage_cost                float64\n",
       "persons_killed             float64\n",
       "persons_injured            float64\n",
       "dtype: object"
      ]
     },
     "execution_count": 9,
     "metadata": {},
     "output_type": "execute_result"
    }
   ],
   "source": [
    "df.dtypes"
   ]
  },
  {
   "cell_type": "code",
   "execution_count": 10,
   "id": "c6e9a730-810b-4a92-9d2b-1dc66f9183f5",
   "metadata": {},
   "outputs": [],
   "source": [
    "# Convert the 'year' index to a DatetimeIndex\n",
    "df['year'] = pd.to_datetime(df['year'], format='%Y')\n",
    "df.set_index('year', inplace=True)"
   ]
  },
  {
   "cell_type": "code",
   "execution_count": 11,
   "id": "eaf1a96f-a0eb-48dd-b13e-7e6ab9c07a9a",
   "metadata": {},
   "outputs": [
    {
     "data": {
      "text/html": [
       "<div>\n",
       "<style scoped>\n",
       "    .dataframe tbody tr th:only-of-type {\n",
       "        vertical-align: middle;\n",
       "    }\n",
       "\n",
       "    .dataframe tbody tr th {\n",
       "        vertical-align: top;\n",
       "    }\n",
       "\n",
       "    .dataframe thead th {\n",
       "        text-align: right;\n",
       "    }\n",
       "</style>\n",
       "<table border=\"1\" class=\"dataframe\">\n",
       "  <thead>\n",
       "    <tr style=\"text-align: right;\">\n",
       "      <th></th>\n",
       "      <th>Unnamed: 0</th>\n",
       "      <th>reporting_railroad_code</th>\n",
       "      <th>railroad_name</th>\n",
       "      <th>accident_id</th>\n",
       "      <th>month</th>\n",
       "      <th>accident_type</th>\n",
       "      <th>state</th>\n",
       "      <th>fra_district</th>\n",
       "      <th>train_speed</th>\n",
       "      <th>temperature</th>\n",
       "      <th>visibility</th>\n",
       "      <th>weather_condition</th>\n",
       "      <th>has_passengers</th>\n",
       "      <th>damage_cost</th>\n",
       "      <th>persons_killed</th>\n",
       "      <th>persons_injured</th>\n",
       "    </tr>\n",
       "    <tr>\n",
       "      <th>year</th>\n",
       "      <th></th>\n",
       "      <th></th>\n",
       "      <th></th>\n",
       "      <th></th>\n",
       "      <th></th>\n",
       "      <th></th>\n",
       "      <th></th>\n",
       "      <th></th>\n",
       "      <th></th>\n",
       "      <th></th>\n",
       "      <th></th>\n",
       "      <th></th>\n",
       "      <th></th>\n",
       "      <th></th>\n",
       "      <th></th>\n",
       "      <th></th>\n",
       "    </tr>\n",
       "  </thead>\n",
       "  <tbody>\n",
       "    <tr>\n",
       "      <th>2017-01-01</th>\n",
       "      <td>0</td>\n",
       "      <td>NICD</td>\n",
       "      <td>Northern Indiana Commuter Transportation District</td>\n",
       "      <td>N1700013</td>\n",
       "      <td>6</td>\n",
       "      <td>Derailment</td>\n",
       "      <td>ILLINOIS</td>\n",
       "      <td>4</td>\n",
       "      <td>10.0</td>\n",
       "      <td>65.0</td>\n",
       "      <td>Day</td>\n",
       "      <td>Clear</td>\n",
       "      <td>Yes</td>\n",
       "      <td>0.0</td>\n",
       "      <td>0.0</td>\n",
       "      <td>0.0</td>\n",
       "    </tr>\n",
       "    <tr>\n",
       "      <th>2017-01-01</th>\n",
       "      <td>1</td>\n",
       "      <td>NIRC</td>\n",
       "      <td>NORTHEAST ILLINOIS REGIONAL COMMUTER RAIL CORP...</td>\n",
       "      <td>201707188</td>\n",
       "      <td>6</td>\n",
       "      <td>Derailment</td>\n",
       "      <td>ILLINOIS</td>\n",
       "      <td>4</td>\n",
       "      <td>0.0</td>\n",
       "      <td>65.0</td>\n",
       "      <td>Day</td>\n",
       "      <td>Clear</td>\n",
       "      <td>Unknown</td>\n",
       "      <td>0.0</td>\n",
       "      <td>0.0</td>\n",
       "      <td>0.0</td>\n",
       "    </tr>\n",
       "    <tr>\n",
       "      <th>1981-01-01</th>\n",
       "      <td>2</td>\n",
       "      <td>CR</td>\n",
       "      <td>Conrail</td>\n",
       "      <td>0420001</td>\n",
       "      <td>4</td>\n",
       "      <td>Side collision</td>\n",
       "      <td>NEW YORK</td>\n",
       "      <td>1</td>\n",
       "      <td>0.0</td>\n",
       "      <td>28.0</td>\n",
       "      <td>Day</td>\n",
       "      <td>Snow</td>\n",
       "      <td>No</td>\n",
       "      <td>0.0</td>\n",
       "      <td>0.0</td>\n",
       "      <td>0.0</td>\n",
       "    </tr>\n",
       "    <tr>\n",
       "      <th>2007-01-01</th>\n",
       "      <td>3</td>\n",
       "      <td>IC</td>\n",
       "      <td>Illinois Central Railroad Company</td>\n",
       "      <td>543854</td>\n",
       "      <td>1</td>\n",
       "      <td>Derailment</td>\n",
       "      <td>LOUISIANA</td>\n",
       "      <td>5</td>\n",
       "      <td>4.0</td>\n",
       "      <td>56.0</td>\n",
       "      <td>Day</td>\n",
       "      <td>Cloudy</td>\n",
       "      <td>No</td>\n",
       "      <td>0.0</td>\n",
       "      <td>0.0</td>\n",
       "      <td>0.0</td>\n",
       "    </tr>\n",
       "    <tr>\n",
       "      <th>2017-01-01</th>\n",
       "      <td>4</td>\n",
       "      <td>IC</td>\n",
       "      <td>Illinois Central Railroad Company</td>\n",
       "      <td>938223</td>\n",
       "      <td>10</td>\n",
       "      <td>Hwy-rail crossing</td>\n",
       "      <td>ILLINOIS</td>\n",
       "      <td>4</td>\n",
       "      <td>0.0</td>\n",
       "      <td>66.0</td>\n",
       "      <td>Dark</td>\n",
       "      <td>Clear</td>\n",
       "      <td>No</td>\n",
       "      <td>0.0</td>\n",
       "      <td>0.0</td>\n",
       "      <td>1.0</td>\n",
       "    </tr>\n",
       "  </tbody>\n",
       "</table>\n",
       "</div>"
      ],
      "text/plain": [
       "            Unnamed: 0 reporting_railroad_code  \\\n",
       "year                                             \n",
       "2017-01-01           0                    NICD   \n",
       "2017-01-01           1                    NIRC   \n",
       "1981-01-01           2                      CR   \n",
       "2007-01-01           3                      IC   \n",
       "2017-01-01           4                      IC   \n",
       "\n",
       "                                                railroad_name accident_id  \\\n",
       "year                                                                        \n",
       "2017-01-01  Northern Indiana Commuter Transportation District    N1700013   \n",
       "2017-01-01  NORTHEAST ILLINOIS REGIONAL COMMUTER RAIL CORP...   201707188   \n",
       "1981-01-01                                            Conrail     0420001   \n",
       "2007-01-01                  Illinois Central Railroad Company      543854   \n",
       "2017-01-01                  Illinois Central Railroad Company      938223   \n",
       "\n",
       "            month      accident_type      state  fra_district  train_speed  \\\n",
       "year                                                                         \n",
       "2017-01-01      6         Derailment   ILLINOIS             4         10.0   \n",
       "2017-01-01      6         Derailment   ILLINOIS             4          0.0   \n",
       "1981-01-01      4     Side collision   NEW YORK             1          0.0   \n",
       "2007-01-01      1         Derailment  LOUISIANA             5          4.0   \n",
       "2017-01-01     10  Hwy-rail crossing   ILLINOIS             4          0.0   \n",
       "\n",
       "            temperature visibility weather_condition has_passengers  \\\n",
       "year                                                                  \n",
       "2017-01-01         65.0        Day             Clear            Yes   \n",
       "2017-01-01         65.0        Day             Clear        Unknown   \n",
       "1981-01-01         28.0        Day              Snow             No   \n",
       "2007-01-01         56.0        Day            Cloudy             No   \n",
       "2017-01-01         66.0       Dark             Clear             No   \n",
       "\n",
       "            damage_cost  persons_killed  persons_injured  \n",
       "year                                                      \n",
       "2017-01-01          0.0             0.0              0.0  \n",
       "2017-01-01          0.0             0.0              0.0  \n",
       "1981-01-01          0.0             0.0              0.0  \n",
       "2007-01-01          0.0             0.0              0.0  \n",
       "2017-01-01          0.0             0.0              1.0  "
      ]
     },
     "execution_count": 11,
     "metadata": {},
     "output_type": "execute_result"
    }
   ],
   "source": [
    "df.head()"
   ]
  },
  {
   "cell_type": "code",
   "execution_count": 12,
   "id": "fee6173c-025e-4341-934f-a04d0b8c3a4b",
   "metadata": {},
   "outputs": [],
   "source": [
    "# Aggregate the data by year to count the number of accidents\n",
    "accidents_by_year = df.resample('A').size().to_frame(name='number_of_accidents')"
   ]
  },
  {
   "cell_type": "code",
   "execution_count": 13,
   "id": "db1546d6-885b-486e-a02d-c2c076af8d5f",
   "metadata": {},
   "outputs": [
    {
     "data": {
      "text/html": [
       "<div>\n",
       "<style scoped>\n",
       "    .dataframe tbody tr th:only-of-type {\n",
       "        vertical-align: middle;\n",
       "    }\n",
       "\n",
       "    .dataframe tbody tr th {\n",
       "        vertical-align: top;\n",
       "    }\n",
       "\n",
       "    .dataframe thead th {\n",
       "        text-align: right;\n",
       "    }\n",
       "</style>\n",
       "<table border=\"1\" class=\"dataframe\">\n",
       "  <thead>\n",
       "    <tr style=\"text-align: right;\">\n",
       "      <th></th>\n",
       "      <th>number_of_accidents</th>\n",
       "    </tr>\n",
       "    <tr>\n",
       "      <th>year</th>\n",
       "      <th></th>\n",
       "    </tr>\n",
       "  </thead>\n",
       "  <tbody>\n",
       "    <tr>\n",
       "      <th>1975-12-31</th>\n",
       "      <td>9273</td>\n",
       "    </tr>\n",
       "    <tr>\n",
       "      <th>1976-12-31</th>\n",
       "      <td>12119</td>\n",
       "    </tr>\n",
       "    <tr>\n",
       "      <th>1977-12-31</th>\n",
       "      <td>12363</td>\n",
       "    </tr>\n",
       "    <tr>\n",
       "      <th>1978-12-31</th>\n",
       "      <td>13428</td>\n",
       "    </tr>\n",
       "    <tr>\n",
       "      <th>1979-12-31</th>\n",
       "      <td>11787</td>\n",
       "    </tr>\n",
       "  </tbody>\n",
       "</table>\n",
       "</div>"
      ],
      "text/plain": [
       "            number_of_accidents\n",
       "year                           \n",
       "1975-12-31                 9273\n",
       "1976-12-31                12119\n",
       "1977-12-31                12363\n",
       "1978-12-31                13428\n",
       "1979-12-31                11787"
      ]
     },
     "execution_count": 13,
     "metadata": {},
     "output_type": "execute_result"
    }
   ],
   "source": [
    "accidents_by_year.head()"
   ]
  },
  {
   "cell_type": "code",
   "execution_count": 14,
   "id": "1389f230-a9d4-472c-a7d6-30eced29535b",
   "metadata": {},
   "outputs": [
    {
     "data": {
      "text/plain": [
       "(48, 1)"
      ]
     },
     "execution_count": 14,
     "metadata": {},
     "output_type": "execute_result"
    }
   ],
   "source": [
    "accidents_by_year.shape"
   ]
  },
  {
   "cell_type": "code",
   "execution_count": 15,
   "id": "7e01b753-b0e8-40f3-b8b2-9832cb217c68",
   "metadata": {},
   "outputs": [
    {
     "data": {
      "text/plain": [
       "[<matplotlib.lines.Line2D at 0x20e1b522750>]"
      ]
     },
     "execution_count": 15,
     "metadata": {},
     "output_type": "execute_result"
    },
    {
     "data": {
      "image/png": "[encoded data removed]",
      "text/plain": [
       "<Figure size 1500x500 with 1 Axes>"
      ]
     },
     "metadata": {},
     "output_type": "display_data"
    }
   ],
   "source": [
    "# Plot the subset\n",
    "plt.figure(figsize=(15,5), dpi=100)\n",
    "plt.plot(accidents_by_year)"
   ]
  },
  {
   "cell_type": "markdown",
   "id": "f7123667-b3d7-443f-ac14-8a6804967052",
   "metadata": {},
   "source": [
    "# 5. Time-series analysis: decomposition"
   ]
  },
  {
   "cell_type": "code",
   "execution_count": 16,
   "id": "016003eb-6d7f-4d73-9651-a229d09ac3da",
   "metadata": {},
   "outputs": [],
   "source": [
    "# Decompose the time series using an additive model\n",
    "decomposition = sm.tsa.seasonal_decompose(accidents_by_year, model='additive')"
   ]
  },
  {
   "cell_type": "code",
   "execution_count": 17,
   "id": "49a01317-7f54-4952-abba-ecbb40930598",
   "metadata": {},
   "outputs": [],
   "source": [
    "from pylab import rcParams \n",
    "rcParams['figure.figsize'] = 18, 7"
   ]
  },
  {
   "cell_type": "code",
   "execution_count": 18,
   "id": "b789156c-8485-46be-87b9-46642bf7ecf3",
   "metadata": {},
   "outputs": [
    {
     "data": {
      "image/png": "[encoded data removed]",
      "text/plain": [
       "<Figure size 1800x700 with 4 Axes>"
      ]
     },
     "metadata": {},
     "output_type": "display_data"
    }
   ],
   "source": [
    "# Plot the separate components\n",
    "decomposition.plot()\n",
    "plt.show()"
   ]
  },
  {
   "cell_type": "markdown",
   "id": "dfddbed1-3285-4328-b727-803418e0277c",
   "metadata": {},
   "source": [
    "### There is a clear downward trend from the mid-1970s to the early 2000s, indicating a decrease in the number of accidents during this period.\n",
    "### From the early 2000s onward, the trend stabilises, suggesting that the number of accidents has remained relatively constant over the last two decades."
   ]
  },
  {
   "cell_type": "markdown",
   "id": "3d5eff47-b042-49d0-a6bd-4b23f77c0b56",
   "metadata": {},
   "source": [
    "### In this case, the seasonal component appears to be a flat line at zero, indicating that there is no seasonal pattern in the annual number of railway accidents. This makes sense because the data is aggregated yearly, and any seasonal variations within a year would not be visible."
   ]
  },
  {
   "cell_type": "markdown",
   "id": "6cda0bf9-7efc-466a-80be-bff2461889c8",
   "metadata": {},
   "source": [
    "### The residuals fluctuate around zero, indicating that there are no significant patterns left unexplained by the trend and seasonal components."
   ]
  },
  {
   "cell_type": "markdown",
   "id": "d2718fad-16a8-4f6a-b552-f7a85f96d92a",
   "metadata": {},
   "source": [
    "# 6. Testing for stationarity"
   ]
  },
  {
   "cell_type": "code",
   "execution_count": 21,
   "id": "d4439413-5dc5-434c-ac48-bfc2e3bfd26b",
   "metadata": {},
   "outputs": [
    {
     "name": "stdout",
     "output_type": "stream",
     "text": [
      "Dickey-Fuller Stationarity test:\n",
      "Test Statistic                 -4.148396\n",
      "p-value                         0.000805\n",
      "Number of Lags Used             1.000000\n",
      "Number of Observations Used    46.000000\n",
      "Critical Value (1%)            -3.581258\n",
      "Critical Value (5%)            -2.926785\n",
      "Critical Value (10%)           -2.601541\n",
      "dtype: float64\n"
     ]
    }
   ],
   "source": [
    "# Import the adfuller() function\n",
    "from statsmodels.tsa.stattools import adfuller \n",
    "\n",
    "# Define the function\n",
    "def dickey_fuller(timeseries): \n",
    "    \n",
    "    # Perform the Dickey-Fuller test:\n",
    "    print ('Dickey-Fuller Stationarity test:')\n",
    "    test = adfuller(timeseries, autolag='AIC')\n",
    "    result = pd.Series(test[0:4], index=['Test Statistic','p-value','Number of Lags Used','Number of Observations Used'])\n",
    "    for key,value in test[4].items():\n",
    "       result['Critical Value (%s)'%key] = value\n",
    "    print (result)\n",
    "\n",
    "# Apply the test using the function on the time series\n",
    "dickey_fuller(accidents_by_year['number_of_accidents'])"
   ]
  },
  {
   "cell_type": "markdown",
   "id": "a9d7af6c-baa0-40b7-97f0-e16b5e1757ef",
   "metadata": {},
   "source": [
    "### The test statistic (-4.148396) is less than all the critical values at the 1%, 5%, and 10% levels. This indicates that the null hypothesis can be rejected at these significance levels.\n",
    "### The p-value (0.000805) is very low, much lower than the typical significance level of 0.05. So it does not look like we need to do any differencing."
   ]
  },
  {
   "cell_type": "markdown",
   "id": "89614170-dc0b-428b-beba-03e3ebd82cfb",
   "metadata": {},
   "source": [
    "# 7. Test for autocorrelation"
   ]
  },
  {
   "cell_type": "code",
   "execution_count": 22,
   "id": "4ab1e4af-2f7f-49ba-a9ce-8b1b0af49baa",
   "metadata": {},
   "outputs": [],
   "source": [
    " # Import the autocorrelation and partial correlation plots\n",
    "from statsmodels.graphics.tsaplots import plot_acf, plot_pacf"
   ]
  },
  {
   "cell_type": "code",
   "execution_count": 24,
   "id": "23a30e4a-ad1e-4336-b773-d9850e747ecd",
   "metadata": {},
   "outputs": [
    {
     "data": {
      "image/png": "[encoded data removed]",
      "text/plain": [
       "<Figure size 1800x700 with 1 Axes>"
      ]
     },
     "metadata": {},
     "output_type": "display_data"
    }
   ],
   "source": [
    "# Check out a plot of autocorrelations\n",
    "plot_acf(accidents_by_year)\n",
    "plt.show()"
   ]
  },
  {
   "cell_type": "markdown",
   "id": "0cc0d811-ea1b-4b4b-8379-80a524e81857",
   "metadata": {},
   "source": [
    "### The time series shows significant positive autocorrelation for the first few lags, suggesting some degree of short-term correlation in the data.\n",
    "### The gradual decay of the autocorrelation function is consistent with the behavior of a stationary series.\n",
    "### Overall, this autocorrelation plot, together with the Dickey-Fuller test result, confirms that the time series is stationary."
   ]
  },
  {
   "cell_type": "code",
   "execution_count": null,
   "id": "48887760-6912-4cf4-82e2-fc759f776d3c",
   "metadata": {},
   "outputs": [],
   "source": []
  }
 ],
 "metadata": {
  "kernelspec": {
   "display_name": "Python 3 (ipykernel)",
   "language": "python",
   "name": "python3"
  },
  "language_info": {
   "codemirror_mode": {
    "name": "ipython",
    "version": 3
   },
   "file_extension": ".py",
   "mimetype": "text/x-python",
   "name": "python",
   "nbconvert_exporter": "python",
   "pygments_lexer": "ipython3",
   "version": "3.11.8"
  }
 },
 "nbformat": 4,
 "nbformat_minor": 5
}
