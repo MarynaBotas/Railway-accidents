{
 "cells": [
  {
   "cell_type": "markdown",
   "id": "bcc78740-7ea0-40db-9366-662c5d27b013",
   "metadata": {},
   "source": [
    "# Railway Incidents Data - Regression"
   ]
  },
  {
   "cell_type": "markdown",
   "id": "6b25e740-0fe2-45ff-a2c4-286044a744b2",
   "metadata": {},
   "source": [
    "## This script contains the following points:\n",
    "1. Importing Libraries\n",
    "2. Importing Data\n",
    "3. Checking Data\n",
    "4. Data preparation for regression analysis\n",
    "5. Regression analysis\n",
    "6. Performance improvement after removing outliers"
   ]
  },
  {
   "cell_type": "markdown",
   "id": "d02faa03-e821-40f9-b29e-3c625aef958d",
   "metadata": {},
   "source": [
    "# 1. Importing Libraries\n"
   ]
  },
  {
   "cell_type": "code",
   "execution_count": 2,
   "id": "b6d5c740-fe49-42b1-bc4f-6d9a454fe742",
   "metadata": {},
   "outputs": [],
   "source": [
    "# Import libraries\n",
    "import pandas as pd\n",
    "import numpy as np\n",
    "import seaborn as sns\n",
    "import matplotlib\n",
    "import matplotlib.pyplot as plt\n",
    "import os\n",
    "import sklearn\n",
    "from sklearn.model_selection import train_test_split \n",
    "from sklearn.linear_model import LinearRegression\n",
    "from sklearn.metrics import mean_squared_error, r2_score"
   ]
  },
  {
   "cell_type": "code",
   "execution_count": 3,
   "id": "13ffc9e6-be9d-41c8-8349-b60d953ff7ad",
   "metadata": {},
   "outputs": [],
   "source": [
    "%matplotlib inline"
   ]
  },
  {
   "cell_type": "markdown",
   "id": "9c17604b-e641-431e-82f1-84112e2fae97",
   "metadata": {},
   "source": [
    "# 2. Importing Data\n"
   ]
  },
  {
   "cell_type": "code",
   "execution_count": 4,
   "id": "15c4ed81-d4d7-4647-9e30-188dd22628b5",
   "metadata": {},
   "outputs": [],
   "source": [
    "# Project folder path\n",
    "path=r'C:\\Users\\maryn\\Documents\\Data Projects\\Railway Incidents Data'"
   ]
  },
  {
   "cell_type": "code",
   "execution_count": 5,
   "id": "491da76a-cdae-4482-a0f6-b8942cc10292",
   "metadata": {},
   "outputs": [],
   "source": [
    "# Import dataset RID_clean_1.csv\n",
    "df_RID = pd.read_csv(os.path.join(path,'02 Data', 'Prepared Data', 'RID_clean_1.csv'), index_col = False)"
   ]
  },
  {
   "cell_type": "markdown",
   "id": "7b861ca1-e97b-4436-be77-5228d5194dd8",
   "metadata": {},
   "source": [
    "# 3. Checking Data"
   ]
  },
  {
   "cell_type": "code",
   "execution_count": 6,
   "id": "caec2b36-3cef-4ccf-ad34-4dee6e7dd3fb",
   "metadata": {},
   "outputs": [
    {
     "data": {
      "text/html": [
       "<div>\n",
       "<style scoped>\n",
       "    .dataframe tbody tr th:only-of-type {\n",
       "        vertical-align: middle;\n",
       "    }\n",
       "\n",
       "    .dataframe tbody tr th {\n",
       "        vertical-align: top;\n",
       "    }\n",
       "\n",
       "    .dataframe thead th {\n",
       "        text-align: right;\n",
       "    }\n",
       "</style>\n",
       "<table border=\"1\" class=\"dataframe\">\n",
       "  <thead>\n",
       "    <tr style=\"text-align: right;\">\n",
       "      <th></th>\n",
       "      <th>Unnamed: 0</th>\n",
       "      <th>reporting_railroad_code</th>\n",
       "      <th>railroad_name</th>\n",
       "      <th>year</th>\n",
       "      <th>accident_id</th>\n",
       "      <th>month</th>\n",
       "      <th>accident_type</th>\n",
       "      <th>state</th>\n",
       "      <th>fra_district</th>\n",
       "      <th>train_speed</th>\n",
       "      <th>temperature</th>\n",
       "      <th>visibility</th>\n",
       "      <th>weather_condition</th>\n",
       "      <th>has_passengers</th>\n",
       "      <th>damage_cost</th>\n",
       "      <th>persons_killed</th>\n",
       "      <th>persons_injured</th>\n",
       "    </tr>\n",
       "  </thead>\n",
       "  <tbody>\n",
       "    <tr>\n",
       "      <th>0</th>\n",
       "      <td>0</td>\n",
       "      <td>NICD</td>\n",
       "      <td>Northern Indiana Commuter Transportation District</td>\n",
       "      <td>2017</td>\n",
       "      <td>N1700013</td>\n",
       "      <td>6</td>\n",
       "      <td>Derailment</td>\n",
       "      <td>ILLINOIS</td>\n",
       "      <td>4</td>\n",
       "      <td>10.0</td>\n",
       "      <td>65.0</td>\n",
       "      <td>Day</td>\n",
       "      <td>Clear</td>\n",
       "      <td>Yes</td>\n",
       "      <td>0.0</td>\n",
       "      <td>0.0</td>\n",
       "      <td>0.0</td>\n",
       "    </tr>\n",
       "    <tr>\n",
       "      <th>1</th>\n",
       "      <td>1</td>\n",
       "      <td>NIRC</td>\n",
       "      <td>NORTHEAST ILLINOIS REGIONAL COMMUTER RAIL CORP...</td>\n",
       "      <td>2017</td>\n",
       "      <td>201707188</td>\n",
       "      <td>6</td>\n",
       "      <td>Derailment</td>\n",
       "      <td>ILLINOIS</td>\n",
       "      <td>4</td>\n",
       "      <td>0.0</td>\n",
       "      <td>65.0</td>\n",
       "      <td>Day</td>\n",
       "      <td>Clear</td>\n",
       "      <td>Unknown</td>\n",
       "      <td>0.0</td>\n",
       "      <td>0.0</td>\n",
       "      <td>0.0</td>\n",
       "    </tr>\n",
       "    <tr>\n",
       "      <th>2</th>\n",
       "      <td>2</td>\n",
       "      <td>CR</td>\n",
       "      <td>Conrail</td>\n",
       "      <td>1981</td>\n",
       "      <td>0420001</td>\n",
       "      <td>4</td>\n",
       "      <td>Side collision</td>\n",
       "      <td>NEW YORK</td>\n",
       "      <td>1</td>\n",
       "      <td>0.0</td>\n",
       "      <td>28.0</td>\n",
       "      <td>Day</td>\n",
       "      <td>Snow</td>\n",
       "      <td>No</td>\n",
       "      <td>0.0</td>\n",
       "      <td>0.0</td>\n",
       "      <td>0.0</td>\n",
       "    </tr>\n",
       "    <tr>\n",
       "      <th>3</th>\n",
       "      <td>3</td>\n",
       "      <td>IC</td>\n",
       "      <td>Illinois Central Railroad Company</td>\n",
       "      <td>2007</td>\n",
       "      <td>543854</td>\n",
       "      <td>1</td>\n",
       "      <td>Derailment</td>\n",
       "      <td>LOUISIANA</td>\n",
       "      <td>5</td>\n",
       "      <td>4.0</td>\n",
       "      <td>56.0</td>\n",
       "      <td>Day</td>\n",
       "      <td>Cloudy</td>\n",
       "      <td>No</td>\n",
       "      <td>0.0</td>\n",
       "      <td>0.0</td>\n",
       "      <td>0.0</td>\n",
       "    </tr>\n",
       "    <tr>\n",
       "      <th>4</th>\n",
       "      <td>4</td>\n",
       "      <td>IC</td>\n",
       "      <td>Illinois Central Railroad Company</td>\n",
       "      <td>2017</td>\n",
       "      <td>938223</td>\n",
       "      <td>10</td>\n",
       "      <td>Hwy-rail crossing</td>\n",
       "      <td>ILLINOIS</td>\n",
       "      <td>4</td>\n",
       "      <td>0.0</td>\n",
       "      <td>66.0</td>\n",
       "      <td>Dark</td>\n",
       "      <td>Clear</td>\n",
       "      <td>No</td>\n",
       "      <td>0.0</td>\n",
       "      <td>0.0</td>\n",
       "      <td>1.0</td>\n",
       "    </tr>\n",
       "  </tbody>\n",
       "</table>\n",
       "</div>"
      ],
      "text/plain": [
       "   Unnamed: 0 reporting_railroad_code  \\\n",
       "0           0                    NICD   \n",
       "1           1                    NIRC   \n",
       "2           2                      CR   \n",
       "3           3                      IC   \n",
       "4           4                      IC   \n",
       "\n",
       "                                       railroad_name  year accident_id  month  \\\n",
       "0  Northern Indiana Commuter Transportation District  2017    N1700013      6   \n",
       "1  NORTHEAST ILLINOIS REGIONAL COMMUTER RAIL CORP...  2017   201707188      6   \n",
       "2                                            Conrail  1981     0420001      4   \n",
       "3                  Illinois Central Railroad Company  2007      543854      1   \n",
       "4                  Illinois Central Railroad Company  2017      938223     10   \n",
       "\n",
       "       accident_type      state  fra_district  train_speed  temperature  \\\n",
       "0         Derailment   ILLINOIS             4         10.0         65.0   \n",
       "1         Derailment   ILLINOIS             4          0.0         65.0   \n",
       "2     Side collision   NEW YORK             1          0.0         28.0   \n",
       "3         Derailment  LOUISIANA             5          4.0         56.0   \n",
       "4  Hwy-rail crossing   ILLINOIS             4          0.0         66.0   \n",
       "\n",
       "  visibility weather_condition has_passengers  damage_cost  persons_killed  \\\n",
       "0        Day             Clear            Yes          0.0             0.0   \n",
       "1        Day             Clear        Unknown          0.0             0.0   \n",
       "2        Day              Snow             No          0.0             0.0   \n",
       "3        Day            Cloudy             No          0.0             0.0   \n",
       "4       Dark             Clear             No          0.0             0.0   \n",
       "\n",
       "   persons_injured  \n",
       "0              0.0  \n",
       "1              0.0  \n",
       "2              0.0  \n",
       "3              0.0  \n",
       "4              1.0  "
      ]
     },
     "execution_count": 6,
     "metadata": {},
     "output_type": "execute_result"
    }
   ],
   "source": [
    "df_RID.head()"
   ]
  },
  {
   "cell_type": "code",
   "execution_count": 7,
   "id": "8c1d9e9e-fde3-453a-8909-354cc0855665",
   "metadata": {},
   "outputs": [],
   "source": [
    "# Drop the 'Unnamed: 0' column\n",
    "df_RID.drop(columns=['Unnamed: 0'], inplace=True)"
   ]
  },
  {
   "cell_type": "code",
   "execution_count": 8,
   "id": "54a7b45a-50d4-4d41-8f9d-118db8d3757e",
   "metadata": {},
   "outputs": [
    {
     "data": {
      "text/html": [
       "<div>\n",
       "<style scoped>\n",
       "    .dataframe tbody tr th:only-of-type {\n",
       "        vertical-align: middle;\n",
       "    }\n",
       "\n",
       "    .dataframe tbody tr th {\n",
       "        vertical-align: top;\n",
       "    }\n",
       "\n",
       "    .dataframe thead th {\n",
       "        text-align: right;\n",
       "    }\n",
       "</style>\n",
       "<table border=\"1\" class=\"dataframe\">\n",
       "  <thead>\n",
       "    <tr style=\"text-align: right;\">\n",
       "      <th></th>\n",
       "      <th>reporting_railroad_code</th>\n",
       "      <th>railroad_name</th>\n",
       "      <th>year</th>\n",
       "      <th>accident_id</th>\n",
       "      <th>month</th>\n",
       "      <th>accident_type</th>\n",
       "      <th>state</th>\n",
       "      <th>fra_district</th>\n",
       "      <th>train_speed</th>\n",
       "      <th>temperature</th>\n",
       "      <th>visibility</th>\n",
       "      <th>weather_condition</th>\n",
       "      <th>has_passengers</th>\n",
       "      <th>damage_cost</th>\n",
       "      <th>persons_killed</th>\n",
       "      <th>persons_injured</th>\n",
       "    </tr>\n",
       "  </thead>\n",
       "  <tbody>\n",
       "    <tr>\n",
       "      <th>0</th>\n",
       "      <td>NICD</td>\n",
       "      <td>Northern Indiana Commuter Transportation District</td>\n",
       "      <td>2017</td>\n",
       "      <td>N1700013</td>\n",
       "      <td>6</td>\n",
       "      <td>Derailment</td>\n",
       "      <td>ILLINOIS</td>\n",
       "      <td>4</td>\n",
       "      <td>10.0</td>\n",
       "      <td>65.0</td>\n",
       "      <td>Day</td>\n",
       "      <td>Clear</td>\n",
       "      <td>Yes</td>\n",
       "      <td>0.0</td>\n",
       "      <td>0.0</td>\n",
       "      <td>0.0</td>\n",
       "    </tr>\n",
       "    <tr>\n",
       "      <th>1</th>\n",
       "      <td>NIRC</td>\n",
       "      <td>NORTHEAST ILLINOIS REGIONAL COMMUTER RAIL CORP...</td>\n",
       "      <td>2017</td>\n",
       "      <td>201707188</td>\n",
       "      <td>6</td>\n",
       "      <td>Derailment</td>\n",
       "      <td>ILLINOIS</td>\n",
       "      <td>4</td>\n",
       "      <td>0.0</td>\n",
       "      <td>65.0</td>\n",
       "      <td>Day</td>\n",
       "      <td>Clear</td>\n",
       "      <td>Unknown</td>\n",
       "      <td>0.0</td>\n",
       "      <td>0.0</td>\n",
       "      <td>0.0</td>\n",
       "    </tr>\n",
       "    <tr>\n",
       "      <th>2</th>\n",
       "      <td>CR</td>\n",
       "      <td>Conrail</td>\n",
       "      <td>1981</td>\n",
       "      <td>0420001</td>\n",
       "      <td>4</td>\n",
       "      <td>Side collision</td>\n",
       "      <td>NEW YORK</td>\n",
       "      <td>1</td>\n",
       "      <td>0.0</td>\n",
       "      <td>28.0</td>\n",
       "      <td>Day</td>\n",
       "      <td>Snow</td>\n",
       "      <td>No</td>\n",
       "      <td>0.0</td>\n",
       "      <td>0.0</td>\n",
       "      <td>0.0</td>\n",
       "    </tr>\n",
       "    <tr>\n",
       "      <th>3</th>\n",
       "      <td>IC</td>\n",
       "      <td>Illinois Central Railroad Company</td>\n",
       "      <td>2007</td>\n",
       "      <td>543854</td>\n",
       "      <td>1</td>\n",
       "      <td>Derailment</td>\n",
       "      <td>LOUISIANA</td>\n",
       "      <td>5</td>\n",
       "      <td>4.0</td>\n",
       "      <td>56.0</td>\n",
       "      <td>Day</td>\n",
       "      <td>Cloudy</td>\n",
       "      <td>No</td>\n",
       "      <td>0.0</td>\n",
       "      <td>0.0</td>\n",
       "      <td>0.0</td>\n",
       "    </tr>\n",
       "    <tr>\n",
       "      <th>4</th>\n",
       "      <td>IC</td>\n",
       "      <td>Illinois Central Railroad Company</td>\n",
       "      <td>2017</td>\n",
       "      <td>938223</td>\n",
       "      <td>10</td>\n",
       "      <td>Hwy-rail crossing</td>\n",
       "      <td>ILLINOIS</td>\n",
       "      <td>4</td>\n",
       "      <td>0.0</td>\n",
       "      <td>66.0</td>\n",
       "      <td>Dark</td>\n",
       "      <td>Clear</td>\n",
       "      <td>No</td>\n",
       "      <td>0.0</td>\n",
       "      <td>0.0</td>\n",
       "      <td>1.0</td>\n",
       "    </tr>\n",
       "  </tbody>\n",
       "</table>\n",
       "</div>"
      ],
      "text/plain": [
       "  reporting_railroad_code                                      railroad_name  \\\n",
       "0                    NICD  Northern Indiana Commuter Transportation District   \n",
       "1                    NIRC  NORTHEAST ILLINOIS REGIONAL COMMUTER RAIL CORP...   \n",
       "2                      CR                                            Conrail   \n",
       "3                      IC                  Illinois Central Railroad Company   \n",
       "4                      IC                  Illinois Central Railroad Company   \n",
       "\n",
       "   year accident_id  month      accident_type      state  fra_district  \\\n",
       "0  2017    N1700013      6         Derailment   ILLINOIS             4   \n",
       "1  2017   201707188      6         Derailment   ILLINOIS             4   \n",
       "2  1981     0420001      4     Side collision   NEW YORK             1   \n",
       "3  2007      543854      1         Derailment  LOUISIANA             5   \n",
       "4  2017      938223     10  Hwy-rail crossing   ILLINOIS             4   \n",
       "\n",
       "   train_speed  temperature visibility weather_condition has_passengers  \\\n",
       "0         10.0         65.0        Day             Clear            Yes   \n",
       "1          0.0         65.0        Day             Clear        Unknown   \n",
       "2          0.0         28.0        Day              Snow             No   \n",
       "3          4.0         56.0        Day            Cloudy             No   \n",
       "4          0.0         66.0       Dark             Clear             No   \n",
       "\n",
       "   damage_cost  persons_killed  persons_injured  \n",
       "0          0.0             0.0              0.0  \n",
       "1          0.0             0.0              0.0  \n",
       "2          0.0             0.0              0.0  \n",
       "3          0.0             0.0              0.0  \n",
       "4          0.0             0.0              1.0  "
      ]
     },
     "execution_count": 8,
     "metadata": {},
     "output_type": "execute_result"
    }
   ],
   "source": [
    "df_RID.head()"
   ]
  },
  {
   "cell_type": "code",
   "execution_count": 9,
   "id": "1293682e-f8fe-45ef-b4f5-2ff623f1cb8a",
   "metadata": {},
   "outputs": [
    {
     "data": {
      "text/plain": [
       "reporting_railroad_code     object\n",
       "railroad_name               object\n",
       "year                         int64\n",
       "accident_id                 object\n",
       "month                        int64\n",
       "accident_type               object\n",
       "state                       object\n",
       "fra_district                 int64\n",
       "train_speed                float64\n",
       "temperature                float64\n",
       "visibility                  object\n",
       "weather_condition           object\n",
       "has_passengers              object\n",
       "damage_cost                float64\n",
       "persons_killed             float64\n",
       "persons_injured            float64\n",
       "dtype: object"
      ]
     },
     "execution_count": 9,
     "metadata": {},
     "output_type": "execute_result"
    }
   ],
   "source": [
    "# Check the data types of columns\n",
    "df_RID.dtypes"
   ]
  },
  {
   "cell_type": "code",
   "execution_count": 10,
   "id": "32fae0b9-4e76-4ead-9c1a-d39c83e35d3b",
   "metadata": {},
   "outputs": [
    {
     "data": {
      "text/plain": [
       "(210666, 16)"
      ]
     },
     "execution_count": 10,
     "metadata": {},
     "output_type": "execute_result"
    }
   ],
   "source": [
    "df_RID.shape"
   ]
  },
  {
   "cell_type": "code",
   "execution_count": 11,
   "id": "d3f87610-20a3-4207-91f9-9e481a88b547",
   "metadata": {},
   "outputs": [
    {
     "data": {
      "text/plain": [
       "reporting_railroad_code    0\n",
       "railroad_name              0\n",
       "year                       0\n",
       "accident_id                0\n",
       "month                      0\n",
       "accident_type              0\n",
       "state                      0\n",
       "fra_district               0\n",
       "train_speed                0\n",
       "temperature                0\n",
       "visibility                 0\n",
       "weather_condition          0\n",
       "has_passengers             0\n",
       "damage_cost                0\n",
       "persons_killed             0\n",
       "persons_injured            0\n",
       "dtype: int64"
      ]
     },
     "execution_count": 11,
     "metadata": {},
     "output_type": "execute_result"
    }
   ],
   "source": [
    "# Check for missing values\n",
    "df_RID.isnull().sum()"
   ]
  },
  {
   "cell_type": "code",
   "execution_count": 12,
   "id": "7b30daa4-bbdc-4baa-b34e-1e9d34fc2d57",
   "metadata": {},
   "outputs": [],
   "source": [
    "dups = df_RID.duplicated()"
   ]
  },
  {
   "cell_type": "code",
   "execution_count": 13,
   "id": "b5b01ecb-5f0e-411d-8140-16d7bf7b94c8",
   "metadata": {},
   "outputs": [
    {
     "data": {
      "text/plain": [
       "(210666,)"
      ]
     },
     "execution_count": 13,
     "metadata": {},
     "output_type": "execute_result"
    }
   ],
   "source": [
    "dups.shape"
   ]
  },
  {
   "cell_type": "code",
   "execution_count": 14,
   "id": "0ae6ca76-9d07-41af-8d0a-bbf572229b2d",
   "metadata": {},
   "outputs": [
    {
     "name": "stderr",
     "output_type": "stream",
     "text": [
      "C:\\Users\\maryn\\AppData\\Local\\Temp\\ipykernel_19300\\1302255954.py:2: UserWarning: \n",
      "\n",
      "`distplot` is a deprecated function and will be removed in seaborn v0.14.0.\n",
      "\n",
      "Please adapt your code to use either `displot` (a figure-level function with\n",
      "similar flexibility) or `histplot` (an axes-level function for histograms).\n",
      "\n",
      "For a guide to updating your code to use the new functions, please see\n",
      "https://gist.github.com/mwaskom/de44147ed2974457ad6372750bbe5751\n",
      "\n",
      "  sns.distplot(df_RID['train_speed'], bins=25)\n",
      "C:\\Users\\maryn\\anaconda3\\Lib\\site-packages\\seaborn\\_oldcore.py:1119: FutureWarning: use_inf_as_na option is deprecated and will be removed in a future version. Convert inf values to NaN before operating instead.\n",
      "  with pd.option_context('mode.use_inf_as_na', True):\n"
     ]
    },
    {
     "data": {
      "text/plain": [
       "<Axes: xlabel='train_speed', ylabel='Density'>"
      ]
     },
     "execution_count": 14,
     "metadata": {},
     "output_type": "execute_result"
    },
    {
     "data": {
      "image/png": "[encoded data removed]",
      "text/plain": [
       "<Figure size 640x480 with 1 Axes>"
      ]
     },
     "metadata": {},
     "output_type": "display_data"
    }
   ],
   "source": [
    "# Extreme values checks\n",
    "sns.distplot(df_RID['train_speed'], bins=25)"
   ]
  },
  {
   "cell_type": "code",
   "execution_count": 16,
   "id": "bce1c63f-e9a1-4cf3-98cd-f1d7f7428179",
   "metadata": {},
   "outputs": [
    {
     "name": "stderr",
     "output_type": "stream",
     "text": [
      "C:\\Users\\maryn\\AppData\\Local\\Temp\\ipykernel_19300\\1915473561.py:1: UserWarning: \n",
      "\n",
      "`distplot` is a deprecated function and will be removed in seaborn v0.14.0.\n",
      "\n",
      "Please adapt your code to use either `displot` (a figure-level function with\n",
      "similar flexibility) or `histplot` (an axes-level function for histograms).\n",
      "\n",
      "For a guide to updating your code to use the new functions, please see\n",
      "https://gist.github.com/mwaskom/de44147ed2974457ad6372750bbe5751\n",
      "\n",
      "  sns.distplot(df_RID['persons_killed'], bins=5)\n",
      "C:\\Users\\maryn\\anaconda3\\Lib\\site-packages\\seaborn\\_oldcore.py:1119: FutureWarning: use_inf_as_na option is deprecated and will be removed in a future version. Convert inf values to NaN before operating instead.\n",
      "  with pd.option_context('mode.use_inf_as_na', True):\n"
     ]
    },
    {
     "data": {
      "text/plain": [
       "<Axes: xlabel='persons_killed', ylabel='Density'>"
      ]
     },
     "execution_count": 16,
     "metadata": {},
     "output_type": "execute_result"
    },
    {
     "data": {
      "image/png": "[encoded data removed]",
      "text/plain": [
       "<Figure size 640x480 with 1 Axes>"
      ]
     },
     "metadata": {},
     "output_type": "display_data"
    }
   ],
   "source": [
    "sns.distplot(df_RID['persons_killed'], bins=5)"
   ]
  },
  {
   "cell_type": "code",
   "execution_count": 54,
   "id": "14509ad6-cfb0-4816-9c84-0109693abc6b",
   "metadata": {},
   "outputs": [
    {
     "data": {
      "text/html": [
       "<div>\n",
       "<style scoped>\n",
       "    .dataframe tbody tr th:only-of-type {\n",
       "        vertical-align: middle;\n",
       "    }\n",
       "\n",
       "    .dataframe tbody tr th {\n",
       "        vertical-align: top;\n",
       "    }\n",
       "\n",
       "    .dataframe thead th {\n",
       "        text-align: right;\n",
       "    }\n",
       "</style>\n",
       "<table border=\"1\" class=\"dataframe\">\n",
       "  <thead>\n",
       "    <tr style=\"text-align: right;\">\n",
       "      <th></th>\n",
       "      <th>train_speed</th>\n",
       "      <th>persons_killed</th>\n",
       "    </tr>\n",
       "  </thead>\n",
       "  <tbody>\n",
       "    <tr>\n",
       "      <th>count</th>\n",
       "      <td>210666</td>\n",
       "      <td>210666</td>\n",
       "    </tr>\n",
       "    <tr>\n",
       "      <th>mean</th>\n",
       "      <td>11</td>\n",
       "      <td>0</td>\n",
       "    </tr>\n",
       "    <tr>\n",
       "      <th>std</th>\n",
       "      <td>15</td>\n",
       "      <td>0</td>\n",
       "    </tr>\n",
       "    <tr>\n",
       "      <th>min</th>\n",
       "      <td>0</td>\n",
       "      <td>0</td>\n",
       "    </tr>\n",
       "    <tr>\n",
       "      <th>25%</th>\n",
       "      <td>3</td>\n",
       "      <td>0</td>\n",
       "    </tr>\n",
       "    <tr>\n",
       "      <th>50%</th>\n",
       "      <td>5</td>\n",
       "      <td>0</td>\n",
       "    </tr>\n",
       "    <tr>\n",
       "      <th>75%</th>\n",
       "      <td>12</td>\n",
       "      <td>0</td>\n",
       "    </tr>\n",
       "    <tr>\n",
       "      <th>max</th>\n",
       "      <td>150</td>\n",
       "      <td>47</td>\n",
       "    </tr>\n",
       "  </tbody>\n",
       "</table>\n",
       "</div>"
      ],
      "text/plain": [
       "       train_speed  persons_killed\n",
       "count       210666          210666\n",
       "mean            11               0\n",
       "std             15               0\n",
       "min              0               0\n",
       "25%              3               0\n",
       "50%              5               0\n",
       "75%             12               0\n",
       "max            150              47"
      ]
     },
     "execution_count": 54,
     "metadata": {},
     "output_type": "execute_result"
    }
   ],
   "source": [
    "# Check mean, median and max of variables 'train_speed', 'persons_killed'\n",
    "df_RID[['train_speed', 'persons_killed']].describe().astype(int)"
   ]
  },
  {
   "cell_type": "code",
   "execution_count": 23,
   "id": "e1d228e9-3b5b-47fc-bf3c-dcae4af2503e",
   "metadata": {},
   "outputs": [
    {
     "data": {
      "text/plain": [
       "persons_killed\n",
       "0.0     207783\n",
       "1.0       2287\n",
       "2.0        376\n",
       "3.0        112\n",
       "4.0         49\n",
       "5.0         15\n",
       "6.0         11\n",
       "7.0          9\n",
       "11.0         8\n",
       "8.0          5\n",
       "16.0         3\n",
       "25.0         2\n",
       "47.0         2\n",
       "10.0         2\n",
       "9.0          2\n",
       "Name: count, dtype: int64"
      ]
     },
     "execution_count": 23,
     "metadata": {},
     "output_type": "execute_result"
    }
   ],
   "source": [
    "df_RID['persons_killed'].value_counts(dropna = False)"
   ]
  },
  {
   "cell_type": "markdown",
   "id": "3d8c42d8-5a60-441f-a66a-f8be5bd86540",
   "metadata": {},
   "source": [
    "# 4. Data preparation for regression analysis"
   ]
  },
  {
   "cell_type": "code",
   "execution_count": 26,
   "id": "d0f36ab3-2899-4d71-8c63-83be503c6971",
   "metadata": {},
   "outputs": [
    {
     "data": {
      "image/png": "[encoded data removed]",
      "text/plain": [
       "<Figure size 640x480 with 1 Axes>"
      ]
     },
     "metadata": {},
     "output_type": "display_data"
    }
   ],
   "source": [
    "# Create a scatterplot using matplotlib for another look at how the chosen variables plot against each other.\n",
    "\n",
    "df_RID.plot(x = 'train_speed', y='persons_killed',style='o')\n",
    "plt.title('Train speed vs Number of persons killed in the railway accidents')  \n",
    "plt.xlabel('Train speed')  \n",
    "plt.ylabel('Persons killed')  \n",
    "plt.show()"
   ]
  },
  {
   "cell_type": "code",
   "execution_count": 27,
   "id": "46b7ed8d-bbdd-4fa4-9da4-b688a1701ef1",
   "metadata": {},
   "outputs": [],
   "source": [
    "# Reshape the variables into NumPy arrays and put them into separate objects.\n",
    "\n",
    "X = df_RID['train_speed'].values.reshape(-1,1)\n",
    "y = df_RID['persons_killed'].values.reshape(-1,1)"
   ]
  },
  {
   "cell_type": "code",
   "execution_count": 30,
   "id": "6af8b90a-0428-4ef5-99f9-4b71f1809893",
   "metadata": {},
   "outputs": [
    {
     "data": {
      "text/plain": [
       "array([[10.],\n",
       "       [ 0.],\n",
       "       [ 0.],\n",
       "       ...,\n",
       "       [ 5.],\n",
       "       [30.],\n",
       "       [ 8.]])"
      ]
     },
     "execution_count": 30,
     "metadata": {},
     "output_type": "execute_result"
    }
   ],
   "source": [
    "X"
   ]
  },
  {
   "cell_type": "code",
   "execution_count": 31,
   "id": "be5dfea1-bfed-4a2f-9cc1-9d15bbdcfacb",
   "metadata": {},
   "outputs": [
    {
     "data": {
      "text/plain": [
       "array([[0.],\n",
       "       [0.],\n",
       "       [0.],\n",
       "       ...,\n",
       "       [0.],\n",
       "       [0.],\n",
       "       [0.]])"
      ]
     },
     "execution_count": 31,
     "metadata": {},
     "output_type": "execute_result"
    }
   ],
   "source": [
    "y"
   ]
  },
  {
   "cell_type": "code",
   "execution_count": 32,
   "id": "7e6de0fe-12b1-4d02-a690-1f0245a28d48",
   "metadata": {},
   "outputs": [],
   "source": [
    "# Split data into a training set and a test set.\n",
    "X_train, X_test, y_train, y_test = train_test_split(X, y, test_size=0.3, random_state=0)"
   ]
  },
  {
   "cell_type": "markdown",
   "id": "ac0b3ff0-2f58-4f03-9ae6-da9991208e4a",
   "metadata": {},
   "source": [
    "# 5. Regression analysis"
   ]
  },
  {
   "cell_type": "code",
   "execution_count": 33,
   "id": "1384574b-13b7-48b9-8b35-ccdb4e3c54e4",
   "metadata": {},
   "outputs": [],
   "source": [
    "# Create a regression object.\n",
    "regression = LinearRegression()"
   ]
  },
  {
   "cell_type": "code",
   "execution_count": 34,
   "id": "ea6ecc10-8a96-4a60-bcaa-d3cf472ddc79",
   "metadata": {},
   "outputs": [
    {
     "data": {
      "text/html": [
       "<style>#sk-container-id-1 {color: black;background-color: white;}#sk-container-id-1 pre{padding: 0;}#sk-container-id-1 div.sk-toggleable {background-color: white;}#sk-container-id-1 label.sk-toggleable__label {cursor: pointer;display: block;width: 100%;margin-bottom: 0;padding: 0.3em;box-sizing: border-box;text-align: center;}#sk-container-id-1 label.sk-toggleable__label-arrow:before {content: \"▸\";float: left;margin-right: 0.25em;color: #696969;}#sk-container-id-1 label.sk-toggleable__label-arrow:hover:before {color: black;}#sk-container-id-1 div.sk-estimator:hover label.sk-toggleable__label-arrow:before {color: black;}#sk-container-id-1 div.sk-toggleable__content {max-height: 0;max-width: 0;overflow: hidden;text-align: left;background-color: #f0f8ff;}#sk-container-id-1 div.sk-toggleable__content pre {margin: 0.2em;color: black;border-radius: 0.25em;background-color: #f0f8ff;}#sk-container-id-1 input.sk-toggleable__control:checked~div.sk-toggleable__content {max-height: 200px;max-width: 100%;overflow: auto;}#sk-container-id-1 input.sk-toggleable__control:checked~label.sk-toggleable__label-arrow:before {content: \"▾\";}#sk-container-id-1 div.sk-estimator input.sk-toggleable__control:checked~label.sk-toggleable__label {background-color: #d4ebff;}#sk-container-id-1 div.sk-label input.sk-toggleable__control:checked~label.sk-toggleable__label {background-color: #d4ebff;}#sk-container-id-1 input.sk-hidden--visually {border: 0;clip: rect(1px 1px 1px 1px);clip: rect(1px, 1px, 1px, 1px);height: 1px;margin: -1px;overflow: hidden;padding: 0;position: absolute;width: 1px;}#sk-container-id-1 div.sk-estimator {font-family: monospace;background-color: #f0f8ff;border: 1px dotted black;border-radius: 0.25em;box-sizing: border-box;margin-bottom: 0.5em;}#sk-container-id-1 div.sk-estimator:hover {background-color: #d4ebff;}#sk-container-id-1 div.sk-parallel-item::after {content: \"\";width: 100%;border-bottom: 1px solid gray;flex-grow: 1;}#sk-container-id-1 div.sk-label:hover label.sk-toggleable__label {background-color: #d4ebff;}#sk-container-id-1 div.sk-serial::before {content: \"\";position: absolute;border-left: 1px solid gray;box-sizing: border-box;top: 0;bottom: 0;left: 50%;z-index: 0;}#sk-container-id-1 div.sk-serial {display: flex;flex-direction: column;align-items: center;background-color: white;padding-right: 0.2em;padding-left: 0.2em;position: relative;}#sk-container-id-1 div.sk-item {position: relative;z-index: 1;}#sk-container-id-1 div.sk-parallel {display: flex;align-items: stretch;justify-content: center;background-color: white;position: relative;}#sk-container-id-1 div.sk-item::before, #sk-container-id-1 div.sk-parallel-item::before {content: \"\";position: absolute;border-left: 1px solid gray;box-sizing: border-box;top: 0;bottom: 0;left: 50%;z-index: -1;}#sk-container-id-1 div.sk-parallel-item {display: flex;flex-direction: column;z-index: 1;position: relative;background-color: white;}#sk-container-id-1 div.sk-parallel-item:first-child::after {align-self: flex-end;width: 50%;}#sk-container-id-1 div.sk-parallel-item:last-child::after {align-self: flex-start;width: 50%;}#sk-container-id-1 div.sk-parallel-item:only-child::after {width: 0;}#sk-container-id-1 div.sk-dashed-wrapped {border: 1px dashed gray;margin: 0 0.4em 0.5em 0.4em;box-sizing: border-box;padding-bottom: 0.4em;background-color: white;}#sk-container-id-1 div.sk-label label {font-family: monospace;font-weight: bold;display: inline-block;line-height: 1.2em;}#sk-container-id-1 div.sk-label-container {text-align: center;}#sk-container-id-1 div.sk-container {/* jupyter's `normalize.less` sets `[hidden] { display: none; }` but bootstrap.min.css set `[hidden] { display: none !important; }` so we also need the `!important` here to be able to override the default hidden behavior on the sphinx rendered scikit-learn.org. See: https://github.com/scikit-learn/scikit-learn/issues/21755 */display: inline-block !important;position: relative;}#sk-container-id-1 div.sk-text-repr-fallback {display: none;}</style><div id=\"sk-container-id-1\" class=\"sk-top-container\"><div class=\"sk-text-repr-fallback\"><pre>LinearRegression()</pre><b>In a Jupyter environment, please rerun this cell to show the HTML representation or trust the notebook. <br />On GitHub, the HTML representation is unable to render, please try loading this page with nbviewer.org.</b></div><div class=\"sk-container\" hidden><div class=\"sk-item\"><div class=\"sk-estimator sk-toggleable\"><input class=\"sk-toggleable__control sk-hidden--visually\" id=\"sk-estimator-id-1\" type=\"checkbox\" checked><label for=\"sk-estimator-id-1\" class=\"sk-toggleable__label sk-toggleable__label-arrow\">LinearRegression</label><div class=\"sk-toggleable__content\"><pre>LinearRegression()</pre></div></div></div></div></div>"
      ],
      "text/plain": [
       "LinearRegression()"
      ]
     },
     "execution_count": 34,
     "metadata": {},
     "output_type": "execute_result"
    }
   ],
   "source": [
    "# Fit the regression object onto the training set.\n",
    "regression.fit(X_train, y_train)"
   ]
  },
  {
   "cell_type": "code",
   "execution_count": 35,
   "id": "3c6d0bff-29cb-4321-a2f2-7ce45a8487d6",
   "metadata": {},
   "outputs": [],
   "source": [
    "# Predict the values of y using X.\n",
    "y_predicted = regression.predict(X_test)"
   ]
  },
  {
   "cell_type": "code",
   "execution_count": 36,
   "id": "a30cc6e8-332b-4191-88b1-3496ecb47fb2",
   "metadata": {},
   "outputs": [
    {
     "data": {
      "image/png": "[encoded data removed]",
      "text/plain": [
       "<Figure size 640x480 with 1 Axes>"
      ]
     },
     "metadata": {},
     "output_type": "display_data"
    }
   ],
   "source": [
    "# Create a plot that shows the regression line from the model on the test set.\n",
    "plot_test = plt\n",
    "plot_test.scatter(X_test, y_test, color='gray', s = 15)\n",
    "plot_test.plot(X_test, y_predicted, color='red', linewidth =3)\n",
    "plot_test.title('Train speed vs Number of persons killed in the railway accidents (Test set)')\n",
    "plot_test.xlabel('Train speed')\n",
    "plot_test.ylabel('Persons killed')\n",
    "plot_test.show()"
   ]
  },
  {
   "cell_type": "markdown",
   "id": "3684d510-cad1-48ee-bf5e-ef5d728cc6df",
   "metadata": {},
   "source": [
    "### The almost horizontal regression line suggests that the model does not show a significant relationship between train speed and the number of fatalities. This may indicate that train speed alone is not a strong predictor of the number of fatalities in railway accidents."
   ]
  },
  {
   "cell_type": "code",
   "execution_count": 37,
   "id": "6cbc4824-b151-4548-b458-3ba7ebc60e18",
   "metadata": {},
   "outputs": [],
   "source": [
    "# Create objects that contain the model summary statistics.\n",
    "rmse = mean_squared_error(y_test, y_predicted) \n",
    "r2 = r2_score(y_test, y_predicted)"
   ]
  },
  {
   "cell_type": "code",
   "execution_count": 38,
   "id": "f25a7733-1e3e-49a2-8b9a-2306e355fa13",
   "metadata": {},
   "outputs": [
    {
     "name": "stdout",
     "output_type": "stream",
     "text": [
      "Slope: [[0.00221139]]\n",
      "Mean squared error:  0.09039282071428499\n",
      "R2 score:  0.014465895561980413\n"
     ]
    }
   ],
   "source": [
    "# Print the model summary statistics.\n",
    "print('Slope:' ,regression.coef_)\n",
    "print('Mean squared error: ', rmse)\n",
    "print('R2 score: ', r2)"
   ]
  },
  {
   "cell_type": "code",
   "execution_count": 39,
   "id": "882669e1-8b4d-4bd0-b650-da0bc169557f",
   "metadata": {},
   "outputs": [
    {
     "data": {
      "text/html": [
       "<div>\n",
       "<style scoped>\n",
       "    .dataframe tbody tr th:only-of-type {\n",
       "        vertical-align: middle;\n",
       "    }\n",
       "\n",
       "    .dataframe tbody tr th {\n",
       "        vertical-align: top;\n",
       "    }\n",
       "\n",
       "    .dataframe thead th {\n",
       "        text-align: right;\n",
       "    }\n",
       "</style>\n",
       "<table border=\"1\" class=\"dataframe\">\n",
       "  <thead>\n",
       "    <tr style=\"text-align: right;\">\n",
       "      <th></th>\n",
       "      <th>Actual</th>\n",
       "      <th>Predicted</th>\n",
       "    </tr>\n",
       "  </thead>\n",
       "  <tbody>\n",
       "    <tr>\n",
       "      <th>0</th>\n",
       "      <td>0.0</td>\n",
       "      <td>-0.006925</td>\n",
       "    </tr>\n",
       "    <tr>\n",
       "      <th>1</th>\n",
       "      <td>0.0</td>\n",
       "      <td>-0.002502</td>\n",
       "    </tr>\n",
       "    <tr>\n",
       "      <th>2</th>\n",
       "      <td>0.0</td>\n",
       "      <td>0.015189</td>\n",
       "    </tr>\n",
       "    <tr>\n",
       "      <th>3</th>\n",
       "      <td>0.0</td>\n",
       "      <td>0.092588</td>\n",
       "    </tr>\n",
       "    <tr>\n",
       "      <th>4</th>\n",
       "      <td>2.0</td>\n",
       "      <td>0.081531</td>\n",
       "    </tr>\n",
       "    <tr>\n",
       "      <th>5</th>\n",
       "      <td>0.0</td>\n",
       "      <td>-0.000291</td>\n",
       "    </tr>\n",
       "    <tr>\n",
       "      <th>6</th>\n",
       "      <td>0.0</td>\n",
       "      <td>0.019612</td>\n",
       "    </tr>\n",
       "    <tr>\n",
       "      <th>7</th>\n",
       "      <td>0.0</td>\n",
       "      <td>0.070474</td>\n",
       "    </tr>\n",
       "    <tr>\n",
       "      <th>8</th>\n",
       "      <td>0.0</td>\n",
       "      <td>-0.006925</td>\n",
       "    </tr>\n",
       "    <tr>\n",
       "      <th>9</th>\n",
       "      <td>0.0</td>\n",
       "      <td>0.006343</td>\n",
       "    </tr>\n",
       "    <tr>\n",
       "      <th>10</th>\n",
       "      <td>0.0</td>\n",
       "      <td>0.019612</td>\n",
       "    </tr>\n",
       "    <tr>\n",
       "      <th>11</th>\n",
       "      <td>0.0</td>\n",
       "      <td>-0.000291</td>\n",
       "    </tr>\n",
       "    <tr>\n",
       "      <th>12</th>\n",
       "      <td>0.0</td>\n",
       "      <td>0.081531</td>\n",
       "    </tr>\n",
       "    <tr>\n",
       "      <th>13</th>\n",
       "      <td>0.0</td>\n",
       "      <td>0.001921</td>\n",
       "    </tr>\n",
       "    <tr>\n",
       "      <th>14</th>\n",
       "      <td>0.0</td>\n",
       "      <td>-0.006925</td>\n",
       "    </tr>\n",
       "    <tr>\n",
       "      <th>15</th>\n",
       "      <td>0.0</td>\n",
       "      <td>-0.006925</td>\n",
       "    </tr>\n",
       "    <tr>\n",
       "      <th>16</th>\n",
       "      <td>0.0</td>\n",
       "      <td>0.004132</td>\n",
       "    </tr>\n",
       "    <tr>\n",
       "      <th>17</th>\n",
       "      <td>0.0</td>\n",
       "      <td>0.028457</td>\n",
       "    </tr>\n",
       "    <tr>\n",
       "      <th>18</th>\n",
       "      <td>0.0</td>\n",
       "      <td>0.004132</td>\n",
       "    </tr>\n",
       "    <tr>\n",
       "      <th>19</th>\n",
       "      <td>0.0</td>\n",
       "      <td>-0.006925</td>\n",
       "    </tr>\n",
       "    <tr>\n",
       "      <th>20</th>\n",
       "      <td>0.0</td>\n",
       "      <td>0.026246</td>\n",
       "    </tr>\n",
       "    <tr>\n",
       "      <th>21</th>\n",
       "      <td>0.0</td>\n",
       "      <td>-0.002502</td>\n",
       "    </tr>\n",
       "    <tr>\n",
       "      <th>22</th>\n",
       "      <td>0.0</td>\n",
       "      <td>0.010766</td>\n",
       "    </tr>\n",
       "    <tr>\n",
       "      <th>23</th>\n",
       "      <td>0.0</td>\n",
       "      <td>0.037303</td>\n",
       "    </tr>\n",
       "    <tr>\n",
       "      <th>24</th>\n",
       "      <td>0.0</td>\n",
       "      <td>0.001921</td>\n",
       "    </tr>\n",
       "    <tr>\n",
       "      <th>25</th>\n",
       "      <td>0.0</td>\n",
       "      <td>0.004132</td>\n",
       "    </tr>\n",
       "    <tr>\n",
       "      <th>26</th>\n",
       "      <td>0.0</td>\n",
       "      <td>0.054994</td>\n",
       "    </tr>\n",
       "    <tr>\n",
       "      <th>27</th>\n",
       "      <td>0.0</td>\n",
       "      <td>-0.006925</td>\n",
       "    </tr>\n",
       "    <tr>\n",
       "      <th>28</th>\n",
       "      <td>0.0</td>\n",
       "      <td>0.015189</td>\n",
       "    </tr>\n",
       "    <tr>\n",
       "      <th>29</th>\n",
       "      <td>0.0</td>\n",
       "      <td>-0.006925</td>\n",
       "    </tr>\n",
       "  </tbody>\n",
       "</table>\n",
       "</div>"
      ],
      "text/plain": [
       "    Actual  Predicted\n",
       "0      0.0  -0.006925\n",
       "1      0.0  -0.002502\n",
       "2      0.0   0.015189\n",
       "3      0.0   0.092588\n",
       "4      2.0   0.081531\n",
       "5      0.0  -0.000291\n",
       "6      0.0   0.019612\n",
       "7      0.0   0.070474\n",
       "8      0.0  -0.006925\n",
       "9      0.0   0.006343\n",
       "10     0.0   0.019612\n",
       "11     0.0  -0.000291\n",
       "12     0.0   0.081531\n",
       "13     0.0   0.001921\n",
       "14     0.0  -0.006925\n",
       "15     0.0  -0.006925\n",
       "16     0.0   0.004132\n",
       "17     0.0   0.028457\n",
       "18     0.0   0.004132\n",
       "19     0.0  -0.006925\n",
       "20     0.0   0.026246\n",
       "21     0.0  -0.002502\n",
       "22     0.0   0.010766\n",
       "23     0.0   0.037303\n",
       "24     0.0   0.001921\n",
       "25     0.0   0.004132\n",
       "26     0.0   0.054994\n",
       "27     0.0  -0.006925\n",
       "28     0.0   0.015189\n",
       "29     0.0  -0.006925"
      ]
     },
     "execution_count": 39,
     "metadata": {},
     "output_type": "execute_result"
    }
   ],
   "source": [
    "# Create a dataframe comparing the actual and predicted values of y.\n",
    "data = pd.DataFrame({'Actual': y_test.flatten(), 'Predicted': y_predicted.flatten()})\n",
    "data.head(30)"
   ]
  },
  {
   "cell_type": "markdown",
   "id": "d43665fb-0331-4591-9395-4ec75550f77f",
   "metadata": {},
   "source": [
    "### The slope is very close to zero, indicating that the relationship between train speed and the number of fatalities is extremely weak. \n",
    "### Although the MSE is low, it may not be a strong indicator of model performance in the context of the data, which contains mostly zeros.\n",
    "### The R-squared value is very close to zero, indicating that the model does not explain much of the variability in the number of fatalities based on train speed. \n",
    "### This interpretation is also illustrated by a mismatch in the comparison of actual and predicted values of y."
   ]
  },
  {
   "cell_type": "markdown",
   "id": "aa87c43e-46a4-447c-8b66-f5e404a62c33",
   "metadata": {},
   "source": [
    "# 6. Performance improvement after removing outliers"
   ]
  },
  {
   "cell_type": "code",
   "execution_count": 40,
   "id": "99b7468e-fc5b-4cb2-ba63-4ac263ddc03a",
   "metadata": {},
   "outputs": [],
   "source": [
    "# Clean the extreme values from the 'persons_killed' variable observed during the consistency checks.\n",
    "df_test = df_RID[df_RID['persons_killed'] <=20] "
   ]
  },
  {
   "cell_type": "code",
   "execution_count": 41,
   "id": "0e11fc4e-a897-4d4d-83a5-9f4ee2bf65e0",
   "metadata": {},
   "outputs": [
    {
     "data": {
      "image/png": "[encoded data removed]",
      "text/plain": [
       "<Figure size 640x480 with 1 Axes>"
      ]
     },
     "metadata": {},
     "output_type": "display_data"
    }
   ],
   "source": [
    "# See how the scatterplot looks without outliers.\n",
    "\n",
    "df_test.plot(x = 'train_speed', y='persons_killed', style='o')  \n",
    "plt.title('Train speed vs Number of persons killed in the railway accidents')  \n",
    "plt.xlabel('Train speed')  \n",
    "plt.ylabel('Persons killed')  \n",
    "plt.show()"
   ]
  },
  {
   "cell_type": "markdown",
   "id": "452569c1-2042-4003-bc33-7dec4956977b",
   "metadata": {},
   "source": [
    "### After the outliers have been removed, the plot shows the variability and distribution of the data points more clearly. However, it still lacks the regression line and emphasises the absence of a clear trend."
   ]
  },
  {
   "cell_type": "code",
   "execution_count": 46,
   "id": "04201381-d881-49a3-8f83-a1fad1144295",
   "metadata": {},
   "outputs": [],
   "source": [
    "# Reshape the variables\n",
    "X_2 = df_test['train_speed'].values.reshape(-1,1)\n",
    "y_2 = df_test['persons_killed'].values.reshape(-1,1)"
   ]
  },
  {
   "cell_type": "code",
   "execution_count": 47,
   "id": "5d9157d1-fe25-434d-bda3-589fcf8d1056",
   "metadata": {},
   "outputs": [],
   "source": [
    "X_train_2, X_test_2, y_train_2, y_test_2 = train_test_split(X_2, y_2, test_size=0.3, random_state=0)"
   ]
  },
  {
   "cell_type": "code",
   "execution_count": 48,
   "id": "3c9d4eee-380d-485c-ab99-d13728f6dc7c",
   "metadata": {},
   "outputs": [
    {
     "data": {
      "text/html": [
       "<style>#sk-container-id-2 {color: black;background-color: white;}#sk-container-id-2 pre{padding: 0;}#sk-container-id-2 div.sk-toggleable {background-color: white;}#sk-container-id-2 label.sk-toggleable__label {cursor: pointer;display: block;width: 100%;margin-bottom: 0;padding: 0.3em;box-sizing: border-box;text-align: center;}#sk-container-id-2 label.sk-toggleable__label-arrow:before {content: \"▸\";float: left;margin-right: 0.25em;color: #696969;}#sk-container-id-2 label.sk-toggleable__label-arrow:hover:before {color: black;}#sk-container-id-2 div.sk-estimator:hover label.sk-toggleable__label-arrow:before {color: black;}#sk-container-id-2 div.sk-toggleable__content {max-height: 0;max-width: 0;overflow: hidden;text-align: left;background-color: #f0f8ff;}#sk-container-id-2 div.sk-toggleable__content pre {margin: 0.2em;color: black;border-radius: 0.25em;background-color: #f0f8ff;}#sk-container-id-2 input.sk-toggleable__control:checked~div.sk-toggleable__content {max-height: 200px;max-width: 100%;overflow: auto;}#sk-container-id-2 input.sk-toggleable__control:checked~label.sk-toggleable__label-arrow:before {content: \"▾\";}#sk-container-id-2 div.sk-estimator input.sk-toggleable__control:checked~label.sk-toggleable__label {background-color: #d4ebff;}#sk-container-id-2 div.sk-label input.sk-toggleable__control:checked~label.sk-toggleable__label {background-color: #d4ebff;}#sk-container-id-2 input.sk-hidden--visually {border: 0;clip: rect(1px 1px 1px 1px);clip: rect(1px, 1px, 1px, 1px);height: 1px;margin: -1px;overflow: hidden;padding: 0;position: absolute;width: 1px;}#sk-container-id-2 div.sk-estimator {font-family: monospace;background-color: #f0f8ff;border: 1px dotted black;border-radius: 0.25em;box-sizing: border-box;margin-bottom: 0.5em;}#sk-container-id-2 div.sk-estimator:hover {background-color: #d4ebff;}#sk-container-id-2 div.sk-parallel-item::after {content: \"\";width: 100%;border-bottom: 1px solid gray;flex-grow: 1;}#sk-container-id-2 div.sk-label:hover label.sk-toggleable__label {background-color: #d4ebff;}#sk-container-id-2 div.sk-serial::before {content: \"\";position: absolute;border-left: 1px solid gray;box-sizing: border-box;top: 0;bottom: 0;left: 50%;z-index: 0;}#sk-container-id-2 div.sk-serial {display: flex;flex-direction: column;align-items: center;background-color: white;padding-right: 0.2em;padding-left: 0.2em;position: relative;}#sk-container-id-2 div.sk-item {position: relative;z-index: 1;}#sk-container-id-2 div.sk-parallel {display: flex;align-items: stretch;justify-content: center;background-color: white;position: relative;}#sk-container-id-2 div.sk-item::before, #sk-container-id-2 div.sk-parallel-item::before {content: \"\";position: absolute;border-left: 1px solid gray;box-sizing: border-box;top: 0;bottom: 0;left: 50%;z-index: -1;}#sk-container-id-2 div.sk-parallel-item {display: flex;flex-direction: column;z-index: 1;position: relative;background-color: white;}#sk-container-id-2 div.sk-parallel-item:first-child::after {align-self: flex-end;width: 50%;}#sk-container-id-2 div.sk-parallel-item:last-child::after {align-self: flex-start;width: 50%;}#sk-container-id-2 div.sk-parallel-item:only-child::after {width: 0;}#sk-container-id-2 div.sk-dashed-wrapped {border: 1px dashed gray;margin: 0 0.4em 0.5em 0.4em;box-sizing: border-box;padding-bottom: 0.4em;background-color: white;}#sk-container-id-2 div.sk-label label {font-family: monospace;font-weight: bold;display: inline-block;line-height: 1.2em;}#sk-container-id-2 div.sk-label-container {text-align: center;}#sk-container-id-2 div.sk-container {/* jupyter's `normalize.less` sets `[hidden] { display: none; }` but bootstrap.min.css set `[hidden] { display: none !important; }` so we also need the `!important` here to be able to override the default hidden behavior on the sphinx rendered scikit-learn.org. See: https://github.com/scikit-learn/scikit-learn/issues/21755 */display: inline-block !important;position: relative;}#sk-container-id-2 div.sk-text-repr-fallback {display: none;}</style><div id=\"sk-container-id-2\" class=\"sk-top-container\"><div class=\"sk-text-repr-fallback\"><pre>LinearRegression()</pre><b>In a Jupyter environment, please rerun this cell to show the HTML representation or trust the notebook. <br />On GitHub, the HTML representation is unable to render, please try loading this page with nbviewer.org.</b></div><div class=\"sk-container\" hidden><div class=\"sk-item\"><div class=\"sk-estimator sk-toggleable\"><input class=\"sk-toggleable__control sk-hidden--visually\" id=\"sk-estimator-id-2\" type=\"checkbox\" checked><label for=\"sk-estimator-id-2\" class=\"sk-toggleable__label sk-toggleable__label-arrow\">LinearRegression</label><div class=\"sk-toggleable__content\"><pre>LinearRegression()</pre></div></div></div></div></div>"
      ],
      "text/plain": [
       "LinearRegression()"
      ]
     },
     "execution_count": 48,
     "metadata": {},
     "output_type": "execute_result"
    }
   ],
   "source": [
    "# Run and fit the regression.\n",
    "regression = LinearRegression()  \n",
    "regression.fit(X_train_2, y_train_2)"
   ]
  },
  {
   "cell_type": "code",
   "execution_count": 49,
   "id": "e2efc3f5-2d64-4534-a59f-6f4745f66800",
   "metadata": {},
   "outputs": [],
   "source": [
    "# Predict the values of y using X\n",
    "y_predicted_2 = regression.predict(X_test_2)"
   ]
  },
  {
   "cell_type": "code",
   "execution_count": 50,
   "id": "db1ad931-d516-421c-9edc-f3cc50b2cf1a",
   "metadata": {},
   "outputs": [
    {
     "data": {
      "image/png": "[encoded data removed]",
      "text/plain": [
       "<Figure size 640x480 with 1 Axes>"
      ]
     },
     "metadata": {},
     "output_type": "display_data"
    }
   ],
   "source": [
    "# Visualizing the test set results.\n",
    "plot_test = plt\n",
    "plot_test.scatter(X_test_2, y_test_2, color='gray', s = 15)\n",
    "plot_test.plot(X_test_2, y_predicted_2, color='red', linewidth =3)\n",
    "plot_test.title('Train speed vs Number of persons killed in the railway accidents (Test set)')\n",
    "plot_test.xlabel('Train speed')\n",
    "plot_test.ylabel('Persons killed')\n",
    "plot_test.show()"
   ]
  },
  {
   "cell_type": "markdown",
   "id": "a17cd9c9-1a30-49e5-8a04-d0dbd627aaba",
   "metadata": {},
   "source": [
    "### The regression line has a slight upward slope, indicating a minimal positive relationship between train speed and fatalities."
   ]
  },
  {
   "cell_type": "code",
   "execution_count": 51,
   "id": "9d5b5fb7-a1e5-4e74-be35-b67b2e348f54",
   "metadata": {},
   "outputs": [],
   "source": [
    "# Create objects that contain the model summary statistics.\n",
    "rmse = mean_squared_error(y_test_2, y_predicted_2)\n",
    "r2 = r2_score(y_test_2, y_predicted_2)"
   ]
  },
  {
   "cell_type": "code",
   "execution_count": 52,
   "id": "743b4b88-b4f9-4e0f-baa5-4fcf7c270780",
   "metadata": {},
   "outputs": [
    {
     "name": "stdout",
     "output_type": "stream",
     "text": [
      "Slope: [[0.00222126]]\n",
      "Mean squared error:  0.03862972642119213\n",
      "R2 score:  0.026924016372991688\n"
     ]
    }
   ],
   "source": [
    "print('Slope:' ,regression.coef_)\n",
    "print('Mean squared error: ', rmse)\n",
    "print('R2 score: ', r2)"
   ]
  },
  {
   "cell_type": "code",
   "execution_count": 53,
   "id": "b8ad3bf8-9eeb-4e60-b9da-40ff7be4df95",
   "metadata": {},
   "outputs": [
    {
     "data": {
      "text/html": [
       "<div>\n",
       "<style scoped>\n",
       "    .dataframe tbody tr th:only-of-type {\n",
       "        vertical-align: middle;\n",
       "    }\n",
       "\n",
       "    .dataframe tbody tr th {\n",
       "        vertical-align: top;\n",
       "    }\n",
       "\n",
       "    .dataframe thead th {\n",
       "        text-align: right;\n",
       "    }\n",
       "</style>\n",
       "<table border=\"1\" class=\"dataframe\">\n",
       "  <thead>\n",
       "    <tr style=\"text-align: right;\">\n",
       "      <th></th>\n",
       "      <th>Actual</th>\n",
       "      <th>Predicted</th>\n",
       "    </tr>\n",
       "  </thead>\n",
       "  <tbody>\n",
       "    <tr>\n",
       "      <th>0</th>\n",
       "      <td>0.0</td>\n",
       "      <td>-0.007257</td>\n",
       "    </tr>\n",
       "    <tr>\n",
       "      <th>1</th>\n",
       "      <td>0.0</td>\n",
       "      <td>0.001628</td>\n",
       "    </tr>\n",
       "    <tr>\n",
       "      <th>2</th>\n",
       "      <td>0.0</td>\n",
       "      <td>0.014955</td>\n",
       "    </tr>\n",
       "    <tr>\n",
       "      <th>3</th>\n",
       "      <td>0.0</td>\n",
       "      <td>0.003849</td>\n",
       "    </tr>\n",
       "    <tr>\n",
       "      <th>4</th>\n",
       "      <td>0.0</td>\n",
       "      <td>0.048274</td>\n",
       "    </tr>\n",
       "    <tr>\n",
       "      <th>5</th>\n",
       "      <td>0.0</td>\n",
       "      <td>-0.007257</td>\n",
       "    </tr>\n",
       "    <tr>\n",
       "      <th>6</th>\n",
       "      <td>0.0</td>\n",
       "      <td>0.019398</td>\n",
       "    </tr>\n",
       "    <tr>\n",
       "      <th>7</th>\n",
       "      <td>0.0</td>\n",
       "      <td>0.103806</td>\n",
       "    </tr>\n",
       "    <tr>\n",
       "      <th>8</th>\n",
       "      <td>0.0</td>\n",
       "      <td>-0.007257</td>\n",
       "    </tr>\n",
       "    <tr>\n",
       "      <th>9</th>\n",
       "      <td>0.0</td>\n",
       "      <td>0.054938</td>\n",
       "    </tr>\n",
       "    <tr>\n",
       "      <th>10</th>\n",
       "      <td>0.0</td>\n",
       "      <td>0.101584</td>\n",
       "    </tr>\n",
       "    <tr>\n",
       "      <th>11</th>\n",
       "      <td>0.0</td>\n",
       "      <td>-0.007257</td>\n",
       "    </tr>\n",
       "    <tr>\n",
       "      <th>12</th>\n",
       "      <td>0.0</td>\n",
       "      <td>0.010513</td>\n",
       "    </tr>\n",
       "    <tr>\n",
       "      <th>13</th>\n",
       "      <td>1.0</td>\n",
       "      <td>-0.007257</td>\n",
       "    </tr>\n",
       "    <tr>\n",
       "      <th>14</th>\n",
       "      <td>0.0</td>\n",
       "      <td>-0.007257</td>\n",
       "    </tr>\n",
       "    <tr>\n",
       "      <th>15</th>\n",
       "      <td>0.0</td>\n",
       "      <td>0.072708</td>\n",
       "    </tr>\n",
       "    <tr>\n",
       "      <th>16</th>\n",
       "      <td>0.0</td>\n",
       "      <td>0.003849</td>\n",
       "    </tr>\n",
       "    <tr>\n",
       "      <th>17</th>\n",
       "      <td>0.0</td>\n",
       "      <td>0.028283</td>\n",
       "    </tr>\n",
       "    <tr>\n",
       "      <th>18</th>\n",
       "      <td>0.0</td>\n",
       "      <td>0.003849</td>\n",
       "    </tr>\n",
       "    <tr>\n",
       "      <th>19</th>\n",
       "      <td>0.0</td>\n",
       "      <td>0.048274</td>\n",
       "    </tr>\n",
       "    <tr>\n",
       "      <th>20</th>\n",
       "      <td>0.0</td>\n",
       "      <td>0.037168</td>\n",
       "    </tr>\n",
       "    <tr>\n",
       "      <th>21</th>\n",
       "      <td>0.0</td>\n",
       "      <td>0.014955</td>\n",
       "    </tr>\n",
       "    <tr>\n",
       "      <th>22</th>\n",
       "      <td>0.0</td>\n",
       "      <td>0.048274</td>\n",
       "    </tr>\n",
       "    <tr>\n",
       "      <th>23</th>\n",
       "      <td>0.0</td>\n",
       "      <td>0.014955</td>\n",
       "    </tr>\n",
       "    <tr>\n",
       "      <th>24</th>\n",
       "      <td>0.0</td>\n",
       "      <td>0.001628</td>\n",
       "    </tr>\n",
       "    <tr>\n",
       "      <th>25</th>\n",
       "      <td>0.0</td>\n",
       "      <td>-0.000593</td>\n",
       "    </tr>\n",
       "    <tr>\n",
       "      <th>26</th>\n",
       "      <td>0.0</td>\n",
       "      <td>-0.007257</td>\n",
       "    </tr>\n",
       "    <tr>\n",
       "      <th>27</th>\n",
       "      <td>0.0</td>\n",
       "      <td>0.161558</td>\n",
       "    </tr>\n",
       "    <tr>\n",
       "      <th>28</th>\n",
       "      <td>0.0</td>\n",
       "      <td>-0.000593</td>\n",
       "    </tr>\n",
       "    <tr>\n",
       "      <th>29</th>\n",
       "      <td>0.0</td>\n",
       "      <td>-0.007257</td>\n",
       "    </tr>\n",
       "  </tbody>\n",
       "</table>\n",
       "</div>"
      ],
      "text/plain": [
       "    Actual  Predicted\n",
       "0      0.0  -0.007257\n",
       "1      0.0   0.001628\n",
       "2      0.0   0.014955\n",
       "3      0.0   0.003849\n",
       "4      0.0   0.048274\n",
       "5      0.0  -0.007257\n",
       "6      0.0   0.019398\n",
       "7      0.0   0.103806\n",
       "8      0.0  -0.007257\n",
       "9      0.0   0.054938\n",
       "10     0.0   0.101584\n",
       "11     0.0  -0.007257\n",
       "12     0.0   0.010513\n",
       "13     1.0  -0.007257\n",
       "14     0.0  -0.007257\n",
       "15     0.0   0.072708\n",
       "16     0.0   0.003849\n",
       "17     0.0   0.028283\n",
       "18     0.0   0.003849\n",
       "19     0.0   0.048274\n",
       "20     0.0   0.037168\n",
       "21     0.0   0.014955\n",
       "22     0.0   0.048274\n",
       "23     0.0   0.014955\n",
       "24     0.0   0.001628\n",
       "25     0.0  -0.000593\n",
       "26     0.0  -0.007257\n",
       "27     0.0   0.161558\n",
       "28     0.0  -0.000593\n",
       "29     0.0  -0.007257"
      ]
     },
     "execution_count": 53,
     "metadata": {},
     "output_type": "execute_result"
    }
   ],
   "source": [
    "data = pd.DataFrame({'Actual': y_test_2.flatten(), 'Predicted': y_predicted_2.flatten()})\n",
    "data.head(30)"
   ]
  },
  {
   "cell_type": "markdown",
   "id": "a1b9e35f-f704-4f4d-af7e-ba4deb7ccebe",
   "metadata": {},
   "source": [
    "### The slope of the second regression attempt is slightly higher than the first, but the difference is minimal. It is still very close to zero.\n",
    "### The MSE of the second regression is lower and the R-squared value is higher than in the first regression, indicating that the second model explains slightly more of the variance in the number of fatalities based on train speed. However, the R-squared value is still very low, indicating an overall poor fit."
   ]
  },
  {
   "cell_type": "code",
   "execution_count": null,
   "id": "ddb84731-a902-4ed4-af8f-ec6e454b88e0",
   "metadata": {},
   "outputs": [],
   "source": []
  }
 ],
 "metadata": {
  "kernelspec": {
   "display_name": "Python 3 (ipykernel)",
   "language": "python",
   "name": "python3"
  },
  "language_info": {
   "codemirror_mode": {
    "name": "ipython",
    "version": 3
   },
   "file_extension": ".py",
   "mimetype": "text/x-python",
   "name": "python",
   "nbconvert_exporter": "python",
   "pygments_lexer": "ipython3",
   "version": "3.11.8"
  }
 },
 "nbformat": 4,
 "nbformat_minor": 5
}
